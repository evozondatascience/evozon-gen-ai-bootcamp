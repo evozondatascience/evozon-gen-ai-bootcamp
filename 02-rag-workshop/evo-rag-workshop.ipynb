{
 "cells": [
  {
   "cell_type": "markdown",
   "id": "74f41a43",
   "metadata": {},
   "source": [
    "# RAG Workshop: From Basic to Advanced Retrieval-Augmented Generation\n",
    "\n",
    "## 🎯 Learning Objectives\n",
    "\n",
    "By the end of this workshop, you will understand:\n",
    "\n",
    "1. **What is RAG?** - Retrieval-Augmented Generation fundamentals\n",
    "2. **Vector Stores** - How to store and search documents using embeddings\n",
    "3. **Document Processing** - Loading, splitting, and preparing documents\n",
    "4. **Query Enhancement** - Advanced techniques to improve retrieval\n",
    "5. **RAG Evolution** - From basic to advanced implementations\n",
    "\n",
    "## 🏰 Context: Curse of Strahd Campaign\n",
    "\n",
    "This workshop uses a **Dungeons & Dragons campaign** as our data source. We'll build a RAG system that can answer questions about campaign events, characters, and story arcs. This makes the learning more engaging than typical boring corporate documents!\n",
    "\n",
    "## 📚 What You'll Build\n",
    "\n",
    "- **Basic RAG**: Simple question → find documents → generate answer\n",
    "- **Enhanced RAG**: Query rewriting for better retrieval\n",
    "- **Advanced RAG**: Query decomposition with multiple retrievals\n",
    "\n",
    "Let's start our journey into the world of RAG! 🚀"
   ]
  },
  {
   "cell_type": "markdown",
   "id": "40849ef3c4584680",
   "metadata": {},
   "source": [
    "## 🔧 Step 1: Environment Setup\n",
    "\n",
    "Before we dive into RAG, let's set up our environment. We'll:\n",
    "\n",
    "1. **Install Dependencies**: All required packages for our RAG system\n",
    "2. **Import Core Libraries**: LangChain for RAG orchestration\n",
    "\n",
    "**Why LangChain?** It's a popular framework that makes building RAG systems much easier by providing pre-built components for document loading, text splitting, embeddings, and chains."
   ]
  },
  {
   "cell_type": "code",
   "id": "initial_id",
   "metadata": {
    "collapsed": true,
    "ExecuteTime": {
     "end_time": "2025-10-13T19:52:36.124653Z",
     "start_time": "2025-10-13T19:52:35.271195Z"
    }
   },
   "source": [
    "! pip install -r ./requirements.txt"
   ],
   "outputs": [
    {
     "name": "stdout",
     "output_type": "stream",
     "text": [
      "Requirement already satisfied: langchain-core==0.3.69 in d:\\projects\\intellij\\ai-internship-2025\\.venv\\lib\\site-packages (from -r ./requirements.txt (line 1)) (0.3.69)\n",
      "Requirement already satisfied: langchain-openai==0.3.28 in d:\\projects\\intellij\\ai-internship-2025\\.venv\\lib\\site-packages (from -r ./requirements.txt (line 2)) (0.3.28)\n",
      "Requirement already satisfied: langchain-community==0.3.27 in d:\\projects\\intellij\\ai-internship-2025\\.venv\\lib\\site-packages (from -r ./requirements.txt (line 3)) (0.3.27)\n",
      "Requirement already satisfied: langchain-text-splitters==0.3.8 in d:\\projects\\intellij\\ai-internship-2025\\.venv\\lib\\site-packages (from -r ./requirements.txt (line 4)) (0.3.8)\n",
      "Requirement already satisfied: langchainhub==0.1.21 in d:\\projects\\intellij\\ai-internship-2025\\.venv\\lib\\site-packages (from -r ./requirements.txt (line 5)) (0.1.21)\n",
      "Requirement already satisfied: unstructured==0.18.9 in d:\\projects\\intellij\\ai-internship-2025\\.venv\\lib\\site-packages (from -r ./requirements.txt (line 6)) (0.18.9)\n",
      "Requirement already satisfied: markdown==3.8.2 in d:\\projects\\intellij\\ai-internship-2025\\.venv\\lib\\site-packages (from -r ./requirements.txt (line 7)) (3.8.2)\n",
      "Requirement already satisfied: elasticsearch==8.18.1 in d:\\projects\\intellij\\ai-internship-2025\\.venv\\lib\\site-packages (from -r ./requirements.txt (line 8)) (8.18.1)\n",
      "Requirement already satisfied: langchain-elasticsearch==0.3.2 in d:\\projects\\intellij\\ai-internship-2025\\.venv\\lib\\site-packages (from -r ./requirements.txt (line 9)) (0.3.2)\n",
      "Requirement already satisfied: streamlit==1.39.0 in d:\\projects\\intellij\\ai-internship-2025\\.venv\\lib\\site-packages (from -r ./requirements.txt (line 10)) (1.39.0)\n",
      "Requirement already satisfied: langsmith>=0.3.45 in d:\\projects\\intellij\\ai-internship-2025\\.venv\\lib\\site-packages (from langchain-core==0.3.69->-r ./requirements.txt (line 1)) (0.4.8)\n",
      "Requirement already satisfied: tenacity!=8.4.0,<10.0.0,>=8.1.0 in d:\\projects\\intellij\\ai-internship-2025\\.venv\\lib\\site-packages (from langchain-core==0.3.69->-r ./requirements.txt (line 1)) (9.1.2)\n",
      "Requirement already satisfied: jsonpatch<2.0,>=1.33 in d:\\projects\\intellij\\ai-internship-2025\\.venv\\lib\\site-packages (from langchain-core==0.3.69->-r ./requirements.txt (line 1)) (1.33)\n",
      "Requirement already satisfied: PyYAML>=5.3 in d:\\projects\\intellij\\ai-internship-2025\\.venv\\lib\\site-packages (from langchain-core==0.3.69->-r ./requirements.txt (line 1)) (6.0.2)\n",
      "Requirement already satisfied: typing-extensions>=4.7 in d:\\projects\\intellij\\ai-internship-2025\\.venv\\lib\\site-packages (from langchain-core==0.3.69->-r ./requirements.txt (line 1)) (4.14.1)\n",
      "Requirement already satisfied: packaging>=23.2 in d:\\projects\\intellij\\ai-internship-2025\\.venv\\lib\\site-packages (from langchain-core==0.3.69->-r ./requirements.txt (line 1)) (24.2)\n",
      "Requirement already satisfied: pydantic>=2.7.4 in d:\\projects\\intellij\\ai-internship-2025\\.venv\\lib\\site-packages (from langchain-core==0.3.69->-r ./requirements.txt (line 1)) (2.11.7)\n",
      "Requirement already satisfied: openai<2.0.0,>=1.86.0 in d:\\projects\\intellij\\ai-internship-2025\\.venv\\lib\\site-packages (from langchain-openai==0.3.28->-r ./requirements.txt (line 2)) (1.97.1)\n",
      "Requirement already satisfied: tiktoken<1,>=0.7 in d:\\projects\\intellij\\ai-internship-2025\\.venv\\lib\\site-packages (from langchain-openai==0.3.28->-r ./requirements.txt (line 2)) (0.9.0)\n",
      "Requirement already satisfied: langchain<1.0.0,>=0.3.26 in d:\\projects\\intellij\\ai-internship-2025\\.venv\\lib\\site-packages (from langchain-community==0.3.27->-r ./requirements.txt (line 3)) (0.3.26)\n",
      "Requirement already satisfied: SQLAlchemy<3,>=1.4 in d:\\projects\\intellij\\ai-internship-2025\\.venv\\lib\\site-packages (from langchain-community==0.3.27->-r ./requirements.txt (line 3)) (2.0.41)\n",
      "Requirement already satisfied: requests<3,>=2 in d:\\projects\\intellij\\ai-internship-2025\\.venv\\lib\\site-packages (from langchain-community==0.3.27->-r ./requirements.txt (line 3)) (2.32.4)\n",
      "Requirement already satisfied: aiohttp<4.0.0,>=3.8.3 in d:\\projects\\intellij\\ai-internship-2025\\.venv\\lib\\site-packages (from langchain-community==0.3.27->-r ./requirements.txt (line 3)) (3.12.14)\n",
      "Requirement already satisfied: dataclasses-json<0.7,>=0.5.7 in d:\\projects\\intellij\\ai-internship-2025\\.venv\\lib\\site-packages (from langchain-community==0.3.27->-r ./requirements.txt (line 3)) (0.6.7)\n",
      "Requirement already satisfied: pydantic-settings<3.0.0,>=2.4.0 in d:\\projects\\intellij\\ai-internship-2025\\.venv\\lib\\site-packages (from langchain-community==0.3.27->-r ./requirements.txt (line 3)) (2.10.1)\n",
      "Requirement already satisfied: httpx-sse<1.0.0,>=0.4.0 in d:\\projects\\intellij\\ai-internship-2025\\.venv\\lib\\site-packages (from langchain-community==0.3.27->-r ./requirements.txt (line 3)) (0.4.1)\n",
      "Requirement already satisfied: numpy>=1.26.2 in d:\\projects\\intellij\\ai-internship-2025\\.venv\\lib\\site-packages (from langchain-community==0.3.27->-r ./requirements.txt (line 3)) (2.3.2)\n",
      "Requirement already satisfied: types-requests<3.0.0.0,>=2.31.0.2 in d:\\projects\\intellij\\ai-internship-2025\\.venv\\lib\\site-packages (from langchainhub==0.1.21->-r ./requirements.txt (line 5)) (2.32.4.20250611)\n",
      "Requirement already satisfied: chardet in d:\\projects\\intellij\\ai-internship-2025\\.venv\\lib\\site-packages (from unstructured==0.18.9->-r ./requirements.txt (line 6)) (5.2.0)\n",
      "Requirement already satisfied: filetype in d:\\projects\\intellij\\ai-internship-2025\\.venv\\lib\\site-packages (from unstructured==0.18.9->-r ./requirements.txt (line 6)) (1.2.0)\n",
      "Requirement already satisfied: python-magic in d:\\projects\\intellij\\ai-internship-2025\\.venv\\lib\\site-packages (from unstructured==0.18.9->-r ./requirements.txt (line 6)) (0.4.27)\n",
      "Requirement already satisfied: lxml in d:\\projects\\intellij\\ai-internship-2025\\.venv\\lib\\site-packages (from unstructured==0.18.9->-r ./requirements.txt (line 6)) (6.0.0)\n",
      "Requirement already satisfied: nltk in d:\\projects\\intellij\\ai-internship-2025\\.venv\\lib\\site-packages (from unstructured==0.18.9->-r ./requirements.txt (line 6)) (3.9.1)\n",
      "Requirement already satisfied: beautifulsoup4 in d:\\projects\\intellij\\ai-internship-2025\\.venv\\lib\\site-packages (from unstructured==0.18.9->-r ./requirements.txt (line 6)) (4.13.4)\n",
      "Requirement already satisfied: emoji in d:\\projects\\intellij\\ai-internship-2025\\.venv\\lib\\site-packages (from unstructured==0.18.9->-r ./requirements.txt (line 6)) (2.14.1)\n",
      "Requirement already satisfied: python-iso639 in d:\\projects\\intellij\\ai-internship-2025\\.venv\\lib\\site-packages (from unstructured==0.18.9->-r ./requirements.txt (line 6)) (2025.2.18)\n",
      "Requirement already satisfied: langdetect in d:\\projects\\intellij\\ai-internship-2025\\.venv\\lib\\site-packages (from unstructured==0.18.9->-r ./requirements.txt (line 6)) (1.0.9)\n",
      "Requirement already satisfied: rapidfuzz in d:\\projects\\intellij\\ai-internship-2025\\.venv\\lib\\site-packages (from unstructured==0.18.9->-r ./requirements.txt (line 6)) (3.13.0)\n",
      "Requirement already satisfied: backoff in d:\\projects\\intellij\\ai-internship-2025\\.venv\\lib\\site-packages (from unstructured==0.18.9->-r ./requirements.txt (line 6)) (2.2.1)\n",
      "Requirement already satisfied: unstructured-client in d:\\projects\\intellij\\ai-internship-2025\\.venv\\lib\\site-packages (from unstructured==0.18.9->-r ./requirements.txt (line 6)) (0.41.0)\n",
      "Requirement already satisfied: wrapt in d:\\projects\\intellij\\ai-internship-2025\\.venv\\lib\\site-packages (from unstructured==0.18.9->-r ./requirements.txt (line 6)) (1.17.2)\n",
      "Requirement already satisfied: tqdm in d:\\projects\\intellij\\ai-internship-2025\\.venv\\lib\\site-packages (from unstructured==0.18.9->-r ./requirements.txt (line 6)) (4.67.1)\n",
      "Requirement already satisfied: psutil in d:\\projects\\intellij\\ai-internship-2025\\.venv\\lib\\site-packages (from unstructured==0.18.9->-r ./requirements.txt (line 6)) (7.0.0)\n",
      "Requirement already satisfied: python-oxmsg in d:\\projects\\intellij\\ai-internship-2025\\.venv\\lib\\site-packages (from unstructured==0.18.9->-r ./requirements.txt (line 6)) (0.0.2)\n",
      "Requirement already satisfied: html5lib in d:\\projects\\intellij\\ai-internship-2025\\.venv\\lib\\site-packages (from unstructured==0.18.9->-r ./requirements.txt (line 6)) (1.1)\n",
      "Requirement already satisfied: elastic-transport<9,>=8.15.1 in d:\\projects\\intellij\\ai-internship-2025\\.venv\\lib\\site-packages (from elasticsearch==8.18.1->-r ./requirements.txt (line 8)) (8.17.1)\n",
      "Requirement already satisfied: python-dateutil in d:\\projects\\intellij\\ai-internship-2025\\.venv\\lib\\site-packages (from elasticsearch==8.18.1->-r ./requirements.txt (line 8)) (2.9.0.post0)\n",
      "Requirement already satisfied: altair<6,>=4.0 in d:\\projects\\intellij\\ai-internship-2025\\.venv\\lib\\site-packages (from streamlit==1.39.0->-r ./requirements.txt (line 10)) (5.5.0)\n",
      "Requirement already satisfied: blinker<2,>=1.0.0 in d:\\projects\\intellij\\ai-internship-2025\\.venv\\lib\\site-packages (from streamlit==1.39.0->-r ./requirements.txt (line 10)) (1.9.0)\n",
      "Requirement already satisfied: cachetools<6,>=4.0 in d:\\projects\\intellij\\ai-internship-2025\\.venv\\lib\\site-packages (from streamlit==1.39.0->-r ./requirements.txt (line 10)) (5.5.2)\n",
      "Requirement already satisfied: click<9,>=7.0 in d:\\projects\\intellij\\ai-internship-2025\\.venv\\lib\\site-packages (from streamlit==1.39.0->-r ./requirements.txt (line 10)) (8.2.1)\n",
      "Requirement already satisfied: pandas<3,>=1.4.0 in d:\\projects\\intellij\\ai-internship-2025\\.venv\\lib\\site-packages (from streamlit==1.39.0->-r ./requirements.txt (line 10)) (2.3.1)\n",
      "Requirement already satisfied: pillow<11,>=7.1.0 in d:\\projects\\intellij\\ai-internship-2025\\.venv\\lib\\site-packages (from streamlit==1.39.0->-r ./requirements.txt (line 10)) (10.4.0)\n",
      "Requirement already satisfied: protobuf<6,>=3.20 in d:\\projects\\intellij\\ai-internship-2025\\.venv\\lib\\site-packages (from streamlit==1.39.0->-r ./requirements.txt (line 10)) (5.29.5)\n",
      "Requirement already satisfied: pyarrow>=7.0 in d:\\projects\\intellij\\ai-internship-2025\\.venv\\lib\\site-packages (from streamlit==1.39.0->-r ./requirements.txt (line 10)) (21.0.0)\n",
      "Requirement already satisfied: rich<14,>=10.14.0 in d:\\projects\\intellij\\ai-internship-2025\\.venv\\lib\\site-packages (from streamlit==1.39.0->-r ./requirements.txt (line 10)) (13.9.4)\n",
      "Requirement already satisfied: toml<2,>=0.10.1 in d:\\projects\\intellij\\ai-internship-2025\\.venv\\lib\\site-packages (from streamlit==1.39.0->-r ./requirements.txt (line 10)) (0.10.2)\n",
      "Requirement already satisfied: gitpython!=3.1.19,<4,>=3.0.7 in d:\\projects\\intellij\\ai-internship-2025\\.venv\\lib\\site-packages (from streamlit==1.39.0->-r ./requirements.txt (line 10)) (3.1.45)\n",
      "Requirement already satisfied: pydeck<1,>=0.8.0b4 in d:\\projects\\intellij\\ai-internship-2025\\.venv\\lib\\site-packages (from streamlit==1.39.0->-r ./requirements.txt (line 10)) (0.9.1)\n",
      "Requirement already satisfied: tornado<7,>=6.0.3 in d:\\projects\\intellij\\ai-internship-2025\\.venv\\lib\\site-packages (from streamlit==1.39.0->-r ./requirements.txt (line 10)) (6.5.1)\n",
      "Requirement already satisfied: watchdog<6,>=2.1.5 in d:\\projects\\intellij\\ai-internship-2025\\.venv\\lib\\site-packages (from streamlit==1.39.0->-r ./requirements.txt (line 10)) (5.0.3)\n",
      "Requirement already satisfied: aiohappyeyeballs>=2.5.0 in d:\\projects\\intellij\\ai-internship-2025\\.venv\\lib\\site-packages (from aiohttp<4.0.0,>=3.8.3->langchain-community==0.3.27->-r ./requirements.txt (line 3)) (2.6.1)\n",
      "Requirement already satisfied: aiosignal>=1.4.0 in d:\\projects\\intellij\\ai-internship-2025\\.venv\\lib\\site-packages (from aiohttp<4.0.0,>=3.8.3->langchain-community==0.3.27->-r ./requirements.txt (line 3)) (1.4.0)\n",
      "Requirement already satisfied: attrs>=17.3.0 in d:\\projects\\intellij\\ai-internship-2025\\.venv\\lib\\site-packages (from aiohttp<4.0.0,>=3.8.3->langchain-community==0.3.27->-r ./requirements.txt (line 3)) (25.3.0)\n",
      "Requirement already satisfied: frozenlist>=1.1.1 in d:\\projects\\intellij\\ai-internship-2025\\.venv\\lib\\site-packages (from aiohttp<4.0.0,>=3.8.3->langchain-community==0.3.27->-r ./requirements.txt (line 3)) (1.7.0)\n",
      "Requirement already satisfied: multidict<7.0,>=4.5 in d:\\projects\\intellij\\ai-internship-2025\\.venv\\lib\\site-packages (from aiohttp<4.0.0,>=3.8.3->langchain-community==0.3.27->-r ./requirements.txt (line 3)) (6.6.3)\n",
      "Requirement already satisfied: propcache>=0.2.0 in d:\\projects\\intellij\\ai-internship-2025\\.venv\\lib\\site-packages (from aiohttp<4.0.0,>=3.8.3->langchain-community==0.3.27->-r ./requirements.txt (line 3)) (0.3.2)\n",
      "Requirement already satisfied: yarl<2.0,>=1.17.0 in d:\\projects\\intellij\\ai-internship-2025\\.venv\\lib\\site-packages (from aiohttp<4.0.0,>=3.8.3->langchain-community==0.3.27->-r ./requirements.txt (line 3)) (1.20.1)\n",
      "Requirement already satisfied: jinja2 in d:\\projects\\intellij\\ai-internship-2025\\.venv\\lib\\site-packages (from altair<6,>=4.0->streamlit==1.39.0->-r ./requirements.txt (line 10)) (3.1.6)\n",
      "Requirement already satisfied: jsonschema>=3.0 in d:\\projects\\intellij\\ai-internship-2025\\.venv\\lib\\site-packages (from altair<6,>=4.0->streamlit==1.39.0->-r ./requirements.txt (line 10)) (4.25.0)\n",
      "Requirement already satisfied: narwhals>=1.14.2 in d:\\projects\\intellij\\ai-internship-2025\\.venv\\lib\\site-packages (from altair<6,>=4.0->streamlit==1.39.0->-r ./requirements.txt (line 10)) (2.0.0)\n",
      "Requirement already satisfied: colorama in d:\\projects\\intellij\\ai-internship-2025\\.venv\\lib\\site-packages (from click<9,>=7.0->streamlit==1.39.0->-r ./requirements.txt (line 10)) (0.4.6)\n",
      "Requirement already satisfied: marshmallow<4.0.0,>=3.18.0 in d:\\projects\\intellij\\ai-internship-2025\\.venv\\lib\\site-packages (from dataclasses-json<0.7,>=0.5.7->langchain-community==0.3.27->-r ./requirements.txt (line 3)) (3.26.1)\n",
      "Requirement already satisfied: typing-inspect<1,>=0.4.0 in d:\\projects\\intellij\\ai-internship-2025\\.venv\\lib\\site-packages (from dataclasses-json<0.7,>=0.5.7->langchain-community==0.3.27->-r ./requirements.txt (line 3)) (0.9.0)\n",
      "Requirement already satisfied: urllib3<3,>=1.26.2 in d:\\projects\\intellij\\ai-internship-2025\\.venv\\lib\\site-packages (from elastic-transport<9,>=8.15.1->elasticsearch==8.18.1->-r ./requirements.txt (line 8)) (2.5.0)\n",
      "Requirement already satisfied: certifi in d:\\projects\\intellij\\ai-internship-2025\\.venv\\lib\\site-packages (from elastic-transport<9,>=8.15.1->elasticsearch==8.18.1->-r ./requirements.txt (line 8)) (2025.7.14)\n",
      "Requirement already satisfied: simsimd>=3 in d:\\projects\\intellij\\ai-internship-2025\\.venv\\lib\\site-packages (from elasticsearch[vectorstore-mmr]<9.0.0,>=8.13.1->langchain-elasticsearch==0.3.2->-r ./requirements.txt (line 9)) (6.5.0)\n",
      "Requirement already satisfied: gitdb<5,>=4.0.1 in d:\\projects\\intellij\\ai-internship-2025\\.venv\\lib\\site-packages (from gitpython!=3.1.19,<4,>=3.0.7->streamlit==1.39.0->-r ./requirements.txt (line 10)) (4.0.12)\n",
      "Requirement already satisfied: smmap<6,>=3.0.1 in d:\\projects\\intellij\\ai-internship-2025\\.venv\\lib\\site-packages (from gitdb<5,>=4.0.1->gitpython!=3.1.19,<4,>=3.0.7->streamlit==1.39.0->-r ./requirements.txt (line 10)) (5.0.2)\n",
      "Requirement already satisfied: jsonpointer>=1.9 in d:\\projects\\intellij\\ai-internship-2025\\.venv\\lib\\site-packages (from jsonpatch<2.0,>=1.33->langchain-core==0.3.69->-r ./requirements.txt (line 1)) (3.0.0)\n",
      "Requirement already satisfied: anyio<5,>=3.5.0 in d:\\projects\\intellij\\ai-internship-2025\\.venv\\lib\\site-packages (from openai<2.0.0,>=1.86.0->langchain-openai==0.3.28->-r ./requirements.txt (line 2)) (4.9.0)\n",
      "Requirement already satisfied: distro<2,>=1.7.0 in d:\\projects\\intellij\\ai-internship-2025\\.venv\\lib\\site-packages (from openai<2.0.0,>=1.86.0->langchain-openai==0.3.28->-r ./requirements.txt (line 2)) (1.9.0)\n",
      "Requirement already satisfied: httpx<1,>=0.23.0 in d:\\projects\\intellij\\ai-internship-2025\\.venv\\lib\\site-packages (from openai<2.0.0,>=1.86.0->langchain-openai==0.3.28->-r ./requirements.txt (line 2)) (0.28.1)\n",
      "Requirement already satisfied: jiter<1,>=0.4.0 in d:\\projects\\intellij\\ai-internship-2025\\.venv\\lib\\site-packages (from openai<2.0.0,>=1.86.0->langchain-openai==0.3.28->-r ./requirements.txt (line 2)) (0.10.0)\n",
      "Requirement already satisfied: sniffio in d:\\projects\\intellij\\ai-internship-2025\\.venv\\lib\\site-packages (from openai<2.0.0,>=1.86.0->langchain-openai==0.3.28->-r ./requirements.txt (line 2)) (1.3.1)\n",
      "Requirement already satisfied: idna>=2.8 in d:\\projects\\intellij\\ai-internship-2025\\.venv\\lib\\site-packages (from anyio<5,>=3.5.0->openai<2.0.0,>=1.86.0->langchain-openai==0.3.28->-r ./requirements.txt (line 2)) (3.10)\n",
      "Requirement already satisfied: httpcore==1.* in d:\\projects\\intellij\\ai-internship-2025\\.venv\\lib\\site-packages (from httpx<1,>=0.23.0->openai<2.0.0,>=1.86.0->langchain-openai==0.3.28->-r ./requirements.txt (line 2)) (1.0.9)\n",
      "Requirement already satisfied: h11>=0.16 in d:\\projects\\intellij\\ai-internship-2025\\.venv\\lib\\site-packages (from httpcore==1.*->httpx<1,>=0.23.0->openai<2.0.0,>=1.86.0->langchain-openai==0.3.28->-r ./requirements.txt (line 2)) (0.16.0)\n",
      "Requirement already satisfied: pytz>=2020.1 in d:\\projects\\intellij\\ai-internship-2025\\.venv\\lib\\site-packages (from pandas<3,>=1.4.0->streamlit==1.39.0->-r ./requirements.txt (line 10)) (2025.2)\n",
      "Requirement already satisfied: tzdata>=2022.7 in d:\\projects\\intellij\\ai-internship-2025\\.venv\\lib\\site-packages (from pandas<3,>=1.4.0->streamlit==1.39.0->-r ./requirements.txt (line 10)) (2025.2)\n",
      "Requirement already satisfied: annotated-types>=0.6.0 in d:\\projects\\intellij\\ai-internship-2025\\.venv\\lib\\site-packages (from pydantic>=2.7.4->langchain-core==0.3.69->-r ./requirements.txt (line 1)) (0.7.0)\n",
      "Requirement already satisfied: pydantic-core==2.33.2 in d:\\projects\\intellij\\ai-internship-2025\\.venv\\lib\\site-packages (from pydantic>=2.7.4->langchain-core==0.3.69->-r ./requirements.txt (line 1)) (2.33.2)\n",
      "Requirement already satisfied: typing-inspection>=0.4.0 in d:\\projects\\intellij\\ai-internship-2025\\.venv\\lib\\site-packages (from pydantic>=2.7.4->langchain-core==0.3.69->-r ./requirements.txt (line 1)) (0.4.1)\n",
      "Requirement already satisfied: python-dotenv>=0.21.0 in d:\\projects\\intellij\\ai-internship-2025\\.venv\\lib\\site-packages (from pydantic-settings<3.0.0,>=2.4.0->langchain-community==0.3.27->-r ./requirements.txt (line 3)) (1.1.1)\n",
      "Requirement already satisfied: charset_normalizer<4,>=2 in d:\\projects\\intellij\\ai-internship-2025\\.venv\\lib\\site-packages (from requests<3,>=2->langchain-community==0.3.27->-r ./requirements.txt (line 3)) (3.4.2)\n",
      "Requirement already satisfied: markdown-it-py>=2.2.0 in d:\\projects\\intellij\\ai-internship-2025\\.venv\\lib\\site-packages (from rich<14,>=10.14.0->streamlit==1.39.0->-r ./requirements.txt (line 10)) (3.0.0)\n",
      "Requirement already satisfied: pygments<3.0.0,>=2.13.0 in d:\\projects\\intellij\\ai-internship-2025\\.venv\\lib\\site-packages (from rich<14,>=10.14.0->streamlit==1.39.0->-r ./requirements.txt (line 10)) (2.19.2)\n",
      "Requirement already satisfied: greenlet>=1 in d:\\projects\\intellij\\ai-internship-2025\\.venv\\lib\\site-packages (from SQLAlchemy<3,>=1.4->langchain-community==0.3.27->-r ./requirements.txt (line 3)) (3.2.3)\n",
      "Requirement already satisfied: regex>=2022.1.18 in d:\\projects\\intellij\\ai-internship-2025\\.venv\\lib\\site-packages (from tiktoken<1,>=0.7->langchain-openai==0.3.28->-r ./requirements.txt (line 2)) (2024.11.6)\n",
      "Requirement already satisfied: mypy-extensions>=0.3.0 in d:\\projects\\intellij\\ai-internship-2025\\.venv\\lib\\site-packages (from typing-inspect<1,>=0.4.0->dataclasses-json<0.7,>=0.5.7->langchain-community==0.3.27->-r ./requirements.txt (line 3)) (1.1.0)\n",
      "Requirement already satisfied: MarkupSafe>=2.0 in d:\\projects\\intellij\\ai-internship-2025\\.venv\\lib\\site-packages (from jinja2->altair<6,>=4.0->streamlit==1.39.0->-r ./requirements.txt (line 10)) (3.0.2)\n",
      "Requirement already satisfied: jsonschema-specifications>=2023.03.6 in d:\\projects\\intellij\\ai-internship-2025\\.venv\\lib\\site-packages (from jsonschema>=3.0->altair<6,>=4.0->streamlit==1.39.0->-r ./requirements.txt (line 10)) (2025.4.1)\n",
      "Requirement already satisfied: referencing>=0.28.4 in d:\\projects\\intellij\\ai-internship-2025\\.venv\\lib\\site-packages (from jsonschema>=3.0->altair<6,>=4.0->streamlit==1.39.0->-r ./requirements.txt (line 10)) (0.36.2)\n",
      "Requirement already satisfied: rpds-py>=0.7.1 in d:\\projects\\intellij\\ai-internship-2025\\.venv\\lib\\site-packages (from jsonschema>=3.0->altair<6,>=4.0->streamlit==1.39.0->-r ./requirements.txt (line 10)) (0.26.0)\n",
      "Requirement already satisfied: orjson<4.0.0,>=3.9.14 in d:\\projects\\intellij\\ai-internship-2025\\.venv\\lib\\site-packages (from langsmith>=0.3.45->langchain-core==0.3.69->-r ./requirements.txt (line 1)) (3.11.1)\n",
      "Requirement already satisfied: requests-toolbelt<2.0.0,>=1.0.0 in d:\\projects\\intellij\\ai-internship-2025\\.venv\\lib\\site-packages (from langsmith>=0.3.45->langchain-core==0.3.69->-r ./requirements.txt (line 1)) (1.0.0)\n",
      "Requirement already satisfied: zstandard<0.24.0,>=0.23.0 in d:\\projects\\intellij\\ai-internship-2025\\.venv\\lib\\site-packages (from langsmith>=0.3.45->langchain-core==0.3.69->-r ./requirements.txt (line 1)) (0.23.0)\n",
      "Requirement already satisfied: mdurl~=0.1 in d:\\projects\\intellij\\ai-internship-2025\\.venv\\lib\\site-packages (from markdown-it-py>=2.2.0->rich<14,>=10.14.0->streamlit==1.39.0->-r ./requirements.txt (line 10)) (0.1.2)\n",
      "Requirement already satisfied: six>=1.5 in d:\\projects\\intellij\\ai-internship-2025\\.venv\\lib\\site-packages (from python-dateutil->elasticsearch==8.18.1->-r ./requirements.txt (line 8)) (1.17.0)\n",
      "Requirement already satisfied: soupsieve>1.2 in d:\\projects\\intellij\\ai-internship-2025\\.venv\\lib\\site-packages (from beautifulsoup4->unstructured==0.18.9->-r ./requirements.txt (line 6)) (2.7)\n",
      "Requirement already satisfied: webencodings in d:\\projects\\intellij\\ai-internship-2025\\.venv\\lib\\site-packages (from html5lib->unstructured==0.18.9->-r ./requirements.txt (line 6)) (0.5.1)\n",
      "Requirement already satisfied: joblib in d:\\projects\\intellij\\ai-internship-2025\\.venv\\lib\\site-packages (from nltk->unstructured==0.18.9->-r ./requirements.txt (line 6)) (1.5.1)\n",
      "Requirement already satisfied: olefile in d:\\projects\\intellij\\ai-internship-2025\\.venv\\lib\\site-packages (from python-oxmsg->unstructured==0.18.9->-r ./requirements.txt (line 6)) (0.47)\n",
      "Requirement already satisfied: aiofiles>=24.1.0 in d:\\projects\\intellij\\ai-internship-2025\\.venv\\lib\\site-packages (from unstructured-client->unstructured==0.18.9->-r ./requirements.txt (line 6)) (24.1.0)\n",
      "Requirement already satisfied: cryptography>=3.1 in d:\\projects\\intellij\\ai-internship-2025\\.venv\\lib\\site-packages (from unstructured-client->unstructured==0.18.9->-r ./requirements.txt (line 6)) (45.0.5)\n",
      "Requirement already satisfied: nest-asyncio>=1.6.0 in d:\\projects\\intellij\\ai-internship-2025\\.venv\\lib\\site-packages (from unstructured-client->unstructured==0.18.9->-r ./requirements.txt (line 6)) (1.6.0)\n",
      "Requirement already satisfied: pypdf>=4.0 in d:\\projects\\intellij\\ai-internship-2025\\.venv\\lib\\site-packages (from unstructured-client->unstructured==0.18.9->-r ./requirements.txt (line 6)) (5.9.0)\n",
      "Requirement already satisfied: cffi>=1.14 in d:\\projects\\intellij\\ai-internship-2025\\.venv\\lib\\site-packages (from cryptography>=3.1->unstructured-client->unstructured==0.18.9->-r ./requirements.txt (line 6)) (1.17.1)\n",
      "Requirement already satisfied: pycparser in d:\\projects\\intellij\\ai-internship-2025\\.venv\\lib\\site-packages (from cffi>=1.14->cryptography>=3.1->unstructured-client->unstructured==0.18.9->-r ./requirements.txt (line 6)) (2.22)\n"
     ]
    },
    {
     "name": "stderr",
     "output_type": "stream",
     "text": [
      "\n",
      "[notice] A new release of pip is available: 25.1.1 -> 25.2\n",
      "[notice] To update, run: python.exe -m pip install --upgrade pip\n"
     ]
    }
   ],
   "execution_count": 1
  },
  {
   "cell_type": "markdown",
   "id": "788a1d23",
   "metadata": {},
   "source": [
    "## 🤖 Step 2: Setting Up the Language Model (LLM)\n",
    "\n",
    "Now we'll configure our **Azure OpenAI** model. This is the \"brain\" of our RAG system that will:\n",
    "\n",
    "- **Generate Answers**: Create human-like responses based on retrieved documents\n",
    "- **Process Queries**: Understand and work with user questions\n",
    "- **Follow Instructions**: Use our custom prompts to behave like a D&D assistant\n",
    "\n",
    "**Key Concepts:**\n",
    "- **Temperature = 0.0**: Makes responses consistent and deterministic (less creative, more factual)\n",
    "- **GPT-4 Mini**: A cost-effective version of GPT-4 that's perfect for most RAG use cases"
   ]
  },
  {
   "cell_type": "markdown",
   "id": "3a2b753e",
   "metadata": {},
   "source": [
    "### 🧪 Testing the LLM (Without RAG)\n",
    "\n",
    "Let's first test our LLM **without** any retrieved documents. This will show you why we need RAG!\n",
    "\n",
    "**What to expect:** The model won't know about Milos and Ireena (characters from our D&D campaign) because they're not in its training data. This demonstrates the **knowledge cutoff problem** that RAG solves."
   ]
  },
  {
   "cell_type": "code",
   "id": "2433f6a45582b79",
   "metadata": {
    "ExecuteTime": {
     "end_time": "2025-10-13T19:52:49.078313Z",
     "start_time": "2025-10-13T19:52:47.109298Z"
    }
   },
   "source": [
    "from langchain_openai import AzureChatOpenAI\n",
    "import os\n",
    "\n",
    "# Set your Azure credentials\n",
    "os.environ['AZURE_OPENAI_ENDPOINT'] = 'https://evo-bots.openai.azure.com/'\n",
    "os.environ['AZURE_OPENAI_API_KEY'] = 'SECRET'\n",
    "os.environ['OPENAI_API_VERSION'] = '2024-12-01-preview'\n",
    "# Create the LLM\n",
    "llm = AzureChatOpenAI(\n",
    "            azure_deployment='gpt-4.1-mini',\n",
    "            model='gpt-4.1-mini',\n",
    "            temperature=0.0,\n",
    "        )\n",
    "\n",
    "messages = [(\"user\", \"What happened between Milos and Ireena?\")]\n",
    "response = llm.invoke(messages)\n",
    "print(response)"
   ],
   "outputs": [
    {
     "name": "stdout",
     "output_type": "stream",
     "text": [
      "content='Could you please provide more context about Milos and Ireena? Are they characters from a specific book, movie, game, or real-life individuals? That way, I can give you a more accurate answer.' additional_kwargs={'refusal': None} response_metadata={'token_usage': {'completion_tokens': 44, 'prompt_tokens': 17, 'total_tokens': 61, 'completion_tokens_details': {'accepted_prediction_tokens': 0, 'audio_tokens': 0, 'reasoning_tokens': 0, 'rejected_prediction_tokens': 0}, 'prompt_tokens_details': {'audio_tokens': 0, 'cached_tokens': 0}}, 'model_name': 'gpt-4.1-mini-2025-04-14', 'system_fingerprint': 'fp_3dcd5944f5', 'id': 'chatcmpl-CQIt6vSuMGQYI4T3X83oJiV5rslBA', 'service_tier': None, 'prompt_filter_results': [{'prompt_index': 0, 'content_filter_results': {'hate': {'filtered': False, 'severity': 'safe'}, 'jailbreak': {'filtered': False, 'detected': False}, 'self_harm': {'filtered': False, 'severity': 'safe'}, 'sexual': {'filtered': False, 'severity': 'safe'}, 'violence': {'filtered': False, 'severity': 'safe'}}}], 'finish_reason': 'stop', 'logprobs': None, 'content_filter_results': {'hate': {'filtered': False, 'severity': 'safe'}, 'protected_material_text': {'filtered': False, 'detected': False}, 'self_harm': {'filtered': False, 'severity': 'safe'}, 'sexual': {'filtered': False, 'severity': 'safe'}, 'violence': {'filtered': False, 'severity': 'safe'}}} id='run--5e0fe002-565b-41b8-b1bf-bf75041776bf-0' usage_metadata={'input_tokens': 17, 'output_tokens': 44, 'total_tokens': 61, 'input_token_details': {'audio': 0, 'cache_read': 0}, 'output_token_details': {'audio': 0, 'reasoning': 0}}\n"
     ]
    }
   ],
   "execution_count": 2
  },
  {
   "cell_type": "markdown",
   "id": "c3b7115c",
   "metadata": {},
   "source": [
    "### 📋 Understanding LLM Responses\n",
    "\n",
    "This utility function helps us see **all the information** that comes back from the LLM, not just the text response. This is useful for debugging and understanding how the model works.\n",
    "\n",
    "**Response Components:**\n",
    "- **Content**: The actual text answer\n",
    "- **Additional kwargs**: Extra parameters or metadata\n",
    "- **Response metadata**: Information about the model, tokens used, etc."
   ]
  },
  {
   "cell_type": "code",
   "id": "d24770ecfb47836f",
   "metadata": {
    "ExecuteTime": {
     "end_time": "2025-10-13T19:52:56.372165Z",
     "start_time": "2025-10-13T19:52:56.369352Z"
    }
   },
   "source": [
    "def pretty_print_response(response):\n",
    "    \"\"\"Prints the response in a readable format.\"\"\"\n",
    "    print(\"Response:\", response.content)\n",
    "    print(\"Additional args\", response.additional_kwargs)\n",
    "    print(\"Metadata:\", response.response_metadata)\n",
    "\n",
    "pretty_print_response(response)"
   ],
   "outputs": [
    {
     "name": "stdout",
     "output_type": "stream",
     "text": [
      "Response: Could you please provide more context about Milos and Ireena? Are they characters from a specific book, movie, game, or real-life individuals? That way, I can give you a more accurate answer.\n",
      "Additional args {'refusal': None}\n",
      "Metadata: {'token_usage': {'completion_tokens': 44, 'prompt_tokens': 17, 'total_tokens': 61, 'completion_tokens_details': {'accepted_prediction_tokens': 0, 'audio_tokens': 0, 'reasoning_tokens': 0, 'rejected_prediction_tokens': 0}, 'prompt_tokens_details': {'audio_tokens': 0, 'cached_tokens': 0}}, 'model_name': 'gpt-4.1-mini-2025-04-14', 'system_fingerprint': 'fp_3dcd5944f5', 'id': 'chatcmpl-CQIt6vSuMGQYI4T3X83oJiV5rslBA', 'service_tier': None, 'prompt_filter_results': [{'prompt_index': 0, 'content_filter_results': {'hate': {'filtered': False, 'severity': 'safe'}, 'jailbreak': {'filtered': False, 'detected': False}, 'self_harm': {'filtered': False, 'severity': 'safe'}, 'sexual': {'filtered': False, 'severity': 'safe'}, 'violence': {'filtered': False, 'severity': 'safe'}}}], 'finish_reason': 'stop', 'logprobs': None, 'content_filter_results': {'hate': {'filtered': False, 'severity': 'safe'}, 'protected_material_text': {'filtered': False, 'detected': False}, 'self_harm': {'filtered': False, 'severity': 'safe'}, 'sexual': {'filtered': False, 'severity': 'safe'}, 'violence': {'filtered': False, 'severity': 'safe'}}}\n"
     ]
    }
   ],
   "execution_count": 3
  },
  {
   "attachments": {
    "22077062-71fd-4344-94e2-b7b758fd137c.png": {
     "image/png": "[encoded data removed]"
    }
   },
   "cell_type": "markdown",
   "id": "b16f55f5",
   "metadata": {},
   "source": [
    "## 🔢 Step 3: Understanding Embeddings - The Magic Behind Vector Search\n",
    "\n",
    "![image.png](attachment:22077062-71fd-4344-94e2-b7b758fd137c.png)\n",
    "\n",
    "**What are embeddings?** Think of them as \"DNA for text\" - they convert words and sentences into numbers (vectors) that capture their meaning.\n",
    "\n",
    "### 🧠 How Embeddings Work:\n",
    "1. **Text → Numbers**: \"The knight fought bravely\" becomes [0.2, -0.1, 0.8, 0.3, ...]\n",
    "2. **Similar Meaning → Similar Numbers**: Related concepts cluster together in vector space\n",
    "3. **Searchable**: We can find similar documents by comparing these numbers\n",
    "\n",
    "**Why Azure OpenAI Embeddings?** They're trained on massive datasets and understand context, synonyms, and relationships between concepts much better than simple keyword matching.\n",
    "\n",
    "### 💡 Real Example:\n",
    "- \"What happened to Ireena?\" \n",
    "- \"Tell me about Ireena's fate\"\n",
    "- \"Ireena's story\"\n",
    "\n",
    "All these have similar embeddings even though they use different words!"
   ]
  },
  {
   "cell_type": "code",
   "id": "3c8b2c7dec42a0f2",
   "metadata": {
    "ExecuteTime": {
     "end_time": "2025-10-13T19:53:01.715513Z",
     "start_time": "2025-10-13T19:53:01.449841Z"
    }
   },
   "source": [
    "from langchain_openai import AzureOpenAIEmbeddings\n",
    "\n",
    "embeddings = AzureOpenAIEmbeddings(\n",
    "    azure_deployment=\"embed-new\"\n",
    ")"
   ],
   "outputs": [],
   "execution_count": 4
  },
  {
   "cell_type": "markdown",
   "id": "b1ec8238",
   "metadata": {},
   "source": [
    "## 📚 Step 4: Loading Documents - Feeding Knowledge to Our RAG System\n",
    "\n",
    "Time to load our **knowledge base**! We're using Curse of Strahd campaign notes as our data source.\n",
    "\n",
    "### 🔍 What's Happening:\n",
    "1. **DirectoryLoader**: Scans the `docs/` folder for all Markdown files\n",
    "2. **UnstructuredMarkdownLoader**: Knows how to read Markdown files and preserve structure\n",
    "3. **Glob Pattern**: `**/*.md` means \"find all .md files in any subdirectory\"\n",
    "\n",
    "### 📖 Our Data Structure:\n",
    "```\n",
    "docs/\n",
    "└── Curse of Strahd.md  (Contains campaign notes, character interactions, plot events)\n",
    "└── History of Barovia.md  (Historical context, important locations)\n",
    "└── Lore of Barovia.md  (Myths, legends, and background information)\n",
    "└── Strahd von Zarovich.md  (Character profile, motivations, and backstory)\n",
    "\n",
    "```\n",
    "\n",
    "**Why Markdown?** It's human-readable, maintains structure (headers, lists), and is easy to process programmatically."
   ]
  },
  {
   "cell_type": "code",
   "id": "d4905d48516ef49c",
   "metadata": {
    "ExecuteTime": {
     "end_time": "2025-10-13T19:53:08.996906Z",
     "start_time": "2025-10-13T19:53:05.350468Z"
    }
   },
   "source": [
    "from langchain_community.document_loaders import DirectoryLoader, UnstructuredMarkdownLoader\n",
    "\n",
    "loader = DirectoryLoader(\"docs/\", glob=\"**/*.md\", loader_cls=UnstructuredMarkdownLoader)\n",
    "docs = loader.load()\n",
    "len(docs)"
   ],
   "outputs": [
    {
     "data": {
      "text/plain": [
       "4"
      ]
     },
     "execution_count": 5,
     "metadata": {},
     "output_type": "execute_result"
    }
   ],
   "execution_count": 5
  },
  {
   "cell_type": "markdown",
   "id": "12e17e0d",
   "metadata": {},
   "source": [
    "## ✂️ Step 5: Text Splitting - Breaking Documents into Digestible Chunks\n",
    "\n",
    "**Why split documents?** Large documents are like trying to eat a whole pizza at once - it's overwhelming and ineffective!\n",
    "\n",
    "### 🍕 The Chunking Strategy:\n",
    "- **Chunk Size: 2000 characters** - Sweet spot for context without overwhelming the LLM\n",
    "- **Overlap: 100 characters** - Ensures we don't lose context at chunk boundaries\n",
    "- **Recursive Splitting** - Tries to split on natural boundaries (paragraphs, sentences, words)\n",
    "\n",
    "### 🧩 How RecursiveCharacterTextSplitter Works:\n",
    "1. Try to split on double newlines (paragraphs)\n",
    "2. If still too big, split on single newlines (sentences)\n",
    "3. If still too big, split on spaces (words)\n",
    "4. Last resort: split by characters\n",
    "\n",
    "### 💡 Why This Matters:\n",
    "- **Better Retrieval**: Smaller, focused chunks are easier to match with queries\n",
    "- **LLM Context Limits**: Most models have token limits\n",
    "- **Relevance**: You get the exact information you need, not the whole document"
   ]
  },
  {
   "cell_type": "code",
   "id": "93a72b1197341d86",
   "metadata": {
    "ExecuteTime": {
     "end_time": "2025-10-13T19:53:15.385963Z",
     "start_time": "2025-10-13T19:53:15.366932Z"
    }
   },
   "source": [
    "from langchain_text_splitters import RecursiveCharacterTextSplitter\n",
    "\n",
    "text_splitter = RecursiveCharacterTextSplitter(chunk_size=2000, chunk_overlap=100)\n",
    "\n",
    "splits = text_splitter.split_documents(docs)\n",
    "len(splits)"
   ],
   "outputs": [
    {
     "data": {
      "text/plain": [
       "528"
      ]
     },
     "execution_count": 6,
     "metadata": {},
     "output_type": "execute_result"
    }
   ],
   "execution_count": 6
  },
  {
   "cell_type": "markdown",
   "id": "ee49385e",
   "metadata": {},
   "source": [
    "## 🗃️ Step 6: Vector Store - The Heart of Our RAG System\n",
    "\n",
    "**What's a Vector Store?** Think of it as a super-smart database that stores documents alongside their embeddings and can find similar content lightning-fast.\n",
    "\n",
    "### ⚡ Why Elasticsearch?\n",
    "- **Scalable**: Handles millions of documents effortlessly\n",
    "- **Fast**: Optimized for vector similarity search\n",
    "- **Hybrid Search**: Combines semantic (meaning) and keyword search\n",
    "- **Production Ready**: Used by major companies worldwide\n",
    "\n",
    "### 🔧 Configuration Breakdown:\n",
    "- **es_url**: Where our Elasticsearch instance is running (localhost)\n",
    "- **index_name**: Like a database table name for our documents\n",
    "- **embedding**: The embedding model we set up earlier\n",
    "- **es_user/es_password**: Authentication credentials\n",
    "- **verify_certs: False**: For development (disable SSL verification)\n",
    "\n",
    "### 🎯 What Happens Next:\n",
    "We'll store our document chunks WITH their embeddings, so when you ask \"What happened to Ireena?\", it can find all chunks that are semantically similar to your question!"
   ]
  },
  {
   "cell_type": "code",
   "id": "be3415990a4dc94c",
   "metadata": {
    "ExecuteTime": {
     "end_time": "2025-10-13T20:02:34.315753Z",
     "start_time": "2025-10-13T20:02:34.285023Z"
    }
   },
   "source": [
    "from langchain_elasticsearch import ElasticsearchStore\n",
    "\n",
    "ELASTIC_SEARCH_INDEX = \"rag-workshop\"\n",
    "\n",
    "\n",
    "elastic_vector_search = ElasticsearchStore(\n",
    "    es_url=\"https://localhost:9200/\",\n",
    "    index_name=ELASTIC_SEARCH_INDEX,\n",
    "    embedding=embeddings,\n",
    "    es_user=\"elastic\",\n",
    "    es_password=\"1*ExqA*Zvl*Mz25uBxud\",\n",
    "    es_params={\"verify_certs\": False}\n",
    ")"
   ],
   "outputs": [
    {
     "name": "stderr",
     "output_type": "stream",
     "text": [
      "D:\\Projects\\IntelliJ\\ai-internship-2025\\.venv\\Lib\\site-packages\\urllib3\\connectionpool.py:1097: InsecureRequestWarning: Unverified HTTPS request is being made to host 'localhost'. Adding certificate verification is strongly advised. See: https://urllib3.readthedocs.io/en/latest/advanced-usage.html#tls-warnings\n",
      "  warnings.warn(\n"
     ]
    }
   ],
   "execution_count": 8
  },
  {
   "cell_type": "markdown",
   "id": "585a1a2d",
   "metadata": {},
   "source": [
    "### 📥 Indexing Documents - Building Our Knowledge Base\n",
    "\n",
    "This is where the magic happens! We're about to:\n",
    "\n",
    "1. **Generate Embeddings**: Convert each text chunk to vectors using Azure OpenAI\n",
    "2. **Store Everything**: Save both the original text AND embeddings in Elasticsearch\n",
    "3. **Build Search Index**: Create optimized structures for fast similarity search\n",
    "\n",
    "### ⏱️ What to Expect:\n",
    "- This might take a few minutes depending on document size\n",
    "- Each chunk gets processed through the embedding model\n",
    "- Progress might be shown as documents are indexed\n",
    "\n",
    "**Fun Fact**: After this step, you can search for \"vampire lord\" and it might find chunks mentioning \"Strahd\" even if they don't contain the exact words!"
   ]
  },
  {
   "cell_type": "code",
   "id": "4c9309d3de2ecee7",
   "metadata": {
    "ExecuteTime": {
     "end_time": "2025-10-13T20:02:56.243575Z",
     "start_time": "2025-10-13T20:02:38.561543Z"
    }
   },
   "source": [
    "elastic_vector_search.add_documents(splits)"
   ],
   "outputs": [
    {
     "name": "stderr",
     "output_type": "stream",
     "text": [
      "D:\\Projects\\IntelliJ\\ai-internship-2025\\.venv\\Lib\\site-packages\\urllib3\\connectionpool.py:1097: InsecureRequestWarning: Unverified HTTPS request is being made to host 'localhost'. Adding certificate verification is strongly advised. See: https://urllib3.readthedocs.io/en/latest/advanced-usage.html#tls-warnings\n",
      "  warnings.warn(\n",
      "D:\\Projects\\IntelliJ\\ai-internship-2025\\.venv\\Lib\\site-packages\\urllib3\\connectionpool.py:1097: InsecureRequestWarning: Unverified HTTPS request is being made to host 'localhost'. Adding certificate verification is strongly advised. See: https://urllib3.readthedocs.io/en/latest/advanced-usage.html#tls-warnings\n",
      "  warnings.warn(\n",
      "D:\\Projects\\IntelliJ\\ai-internship-2025\\.venv\\Lib\\site-packages\\urllib3\\connectionpool.py:1097: InsecureRequestWarning: Unverified HTTPS request is being made to host 'localhost'. Adding certificate verification is strongly advised. See: https://urllib3.readthedocs.io/en/latest/advanced-usage.html#tls-warnings\n",
      "  warnings.warn(\n"
     ]
    },
    {
     "data": {
      "text/plain": [
       "['61e91b55-ad7a-4704-aa71-c64c4a3d03a7',\n",
       " '84c89e21-eabe-4e5c-bf6d-6cc2beeb2f82',\n",
       " 'aef4c63a-08b1-4d76-8c6a-69df0efca38a',\n",
       " '8e5f30b3-0ef7-4ddb-a760-69087e78976c',\n",
       " 'b7ef63e4-1014-4e00-8650-97e407a82be7',\n",
       " '45d31277-4e60-421a-95be-e5e1b3edf056',\n",
       " 'd7223ec8-6c21-4e4b-9aca-0a3dd87f18dd',\n",
       " 'f7bf00ef-3019-4828-b630-4324eb117ebd',\n",
       " '4e898f00-cd67-4974-990c-8034bb01ce38',\n",
       " '5931dd57-b102-43d0-a5fc-ee769a835bd1',\n",
       " '174ab250-ded0-4a6b-b136-1a84606a1177',\n",
       " '3d094f53-ea71-479c-a74b-4357a091d12f',\n",
       " '4d5db23a-1fa3-4daf-a294-60c1a628d358',\n",
       " '4428cf58-3273-4827-a1f0-499d008f0ce8',\n",
       " 'fda8d23b-9f6f-499f-814e-b2fe8007a583',\n",
       " 'f16d2ace-b2ca-473c-bc61-5604e6cb6c09',\n",
       " '845ef36f-2e99-4bf4-b216-4f69d8ab4153',\n",
       " 'f10c2ce4-a3ec-4d8b-87ac-e158d16c2582',\n",
       " 'fced3841-c2d4-4abd-bec6-e4f526f1ed9b',\n",
       " '1324b7fe-3c9f-452c-8373-f7183bb5d517',\n",
       " '6102c061-5848-4990-bf34-43123737ca31',\n",
       " '4bde4780-5aae-4f7b-9f6a-02b180b37e8c',\n",
       " '8ff20a89-9315-4193-ad65-4b5dff2137c8',\n",
       " 'ee20d546-26f2-4bc2-8f93-01766de5e858',\n",
       " 'd119d745-9419-43cb-b5b2-facb340741a3',\n",
       " 'eaf11422-1a4b-4731-9066-4b38e6a2b6c3',\n",
       " '1bd1cbaf-0eef-4d18-8dc9-281e64bcbf3a',\n",
       " 'c5aa7cf0-f556-46eb-9622-a20f50cd7fd4',\n",
       " 'b8b8e5a2-3102-4530-b4b9-50eb6211ed8a',\n",
       " '7e95b89c-33c0-48b9-8cdd-0b2932c2f312',\n",
       " '68bd1368-c49d-47f6-b68b-eb9638bd3e53',\n",
       " '9afe15ac-e82c-4e33-bf36-739ece596061',\n",
       " '77de6010-b085-49b6-9200-1367590e46ab',\n",
       " '08a413a6-8c69-48d8-a494-e34cd4acf649',\n",
       " '74ee72be-890d-4725-8814-9fe2ce1598a4',\n",
       " '405f2c1b-79a0-4925-90f8-81d214ceccd7',\n",
       " '18b90b84-c5d2-47d3-ace4-5b2b6d51d7d6',\n",
       " '2c0fc2ab-9b99-4177-85a7-d4bad6232740',\n",
       " '8199cf9a-8f2d-44b1-9e7a-6f76f329255c',\n",
       " '9eb2bc0c-828b-4569-9beb-920c5a7c7fce',\n",
       " 'b13876fd-e335-401e-9499-e1a7c0b23929',\n",
       " '0679b1f3-6809-4fc9-adf6-fc3b5a65ce1e',\n",
       " 'aa559647-d954-4007-9bce-f09715f500c3',\n",
       " 'a11e6ffe-881e-4031-9e61-b6609d951b13',\n",
       " '164ac78a-c41c-4f15-9eb1-5242c6604d3d',\n",
       " '658c1621-808e-436a-88ea-8da73b483de5',\n",
       " 'b12719f1-d970-4e7c-adbf-9b7ed6a40b33',\n",
       " 'fe3bf96f-6269-4298-b97e-4cce22a09f31',\n",
       " '7fe1cbe9-e641-4e07-8dfb-f1c6c020f6f0',\n",
       " '83076bfb-a350-42d9-a86f-3b2833b31e72',\n",
       " 'ff6f7239-1a1d-487c-8d6d-30641b6506e3',\n",
       " 'aa0624fc-bb0b-4ec9-a683-5d008422bee5',\n",
       " 'e619d055-1611-4148-8dc5-8726a0857a16',\n",
       " 'fc382ad7-bef3-40f6-8051-7ba9ab0cb1d8',\n",
       " '58546bd6-71db-4404-9a6c-742f950f3447',\n",
       " '9883a58c-6a5b-46fe-ba8b-7bb5f7272733',\n",
       " 'c34a6363-2af6-4c7b-87b1-78b1c62dfced',\n",
       " '43a34dc2-4fce-42a5-bace-d2767e79e9a4',\n",
       " '0fd0bd6a-be1d-4e9e-bafa-c39c9b108e6a',\n",
       " 'e2066276-be3a-42a5-aa00-32524426658e',\n",
       " '97663211-aae5-4b96-b730-12293522ac29',\n",
       " 'df959240-4402-4263-96b8-0b662467a89f',\n",
       " '6185b57a-f16f-45f6-bd75-cd84332136ab',\n",
       " '1ea4c85d-4948-44ed-94b8-f4da7e9e6e08',\n",
       " 'bc7c683f-8260-4511-a6a4-f7edeb477fbf',\n",
       " '8030747c-e859-4b83-ae9d-283b013008b9',\n",
       " '8c506aee-4b19-4597-8d95-5a8034f1a618',\n",
       " 'cd00b10f-e2c9-4bc1-a931-ee3a4264cba0',\n",
       " '871aa28b-c644-485f-abda-a66b65c5dcad',\n",
       " 'ff6f3353-8534-406d-b32d-24dd7244d712',\n",
       " 'cce03bc3-5c33-4911-9530-ebdf0e7ef642',\n",
       " '70a4698a-f943-4c51-bdb7-aee98aa65a44',\n",
       " '99a37b00-8081-43f6-b1e9-31d726091026',\n",
       " 'c60d063a-a0ee-42c7-aae2-a835f5f431cf',\n",
       " '72a0573e-3b03-4ee3-af3f-39ff59471db3',\n",
       " '5f02c3ad-624f-409f-a802-789cf3645191',\n",
       " '34528b50-fb02-4176-b707-3c814da934f5',\n",
       " 'd38010d3-8abb-416e-8ad1-9e92202282eb',\n",
       " '38404a2e-24c1-48cc-a94d-c8d87d561ce3',\n",
       " '10d63ad0-51da-4c72-9d7f-8128b3985a7e',\n",
       " '42818975-90b5-42e8-b3ca-c8ef095f9e7e',\n",
       " '638babf4-19a8-49a9-b61c-d5c5073d6443',\n",
       " '073c00e8-aac5-43d7-a4a5-ab24549f43ca',\n",
       " 'b43503d0-29a1-4993-b128-79c862bfb798',\n",
       " '50864856-2b43-4a11-9369-71564752f9c2',\n",
       " 'e7f83f0c-ad28-49dc-ba7f-c6af45471931',\n",
       " '2ca867dc-f005-4997-a52d-abbdd0bb7a66',\n",
       " '0c73ae8d-bdf3-4701-bc7b-cb1cf8a896ea',\n",
       " '486991f0-b117-4d36-9e39-a10ff422ccb4',\n",
       " '03cdaac0-f59a-490f-a260-901abc49c495',\n",
       " '7c727ab5-cecb-4828-93e1-6f9633550429',\n",
       " '68b16b4a-ccb4-4a64-9a89-fcf281a42946',\n",
       " '04432d39-865a-4a18-b259-2ca8804afd25',\n",
       " 'bf88ebc2-e473-4d51-966d-0df0542763d0',\n",
       " '8491f395-102d-48d7-84db-fe13d303089d',\n",
       " 'f9d0a886-18ff-479a-8f28-36a2ac0ac6df',\n",
       " '49143793-3e7e-4235-9549-867f3fd0a963',\n",
       " '5c21c1c6-571f-4c18-ba92-e9d4ab9d0685',\n",
       " '4dbf1735-8dfc-4adc-969c-707a7a4535c0',\n",
       " '808033ff-b685-4c55-84d1-4e5a1fe46205',\n",
       " '173c50ea-8796-4a33-a2e0-308ea76ed4fc',\n",
       " 'c40479ba-1a26-476c-bccf-336094445c14',\n",
       " '65703262-8a48-45b2-bb73-ef80a0b66fa3',\n",
       " 'dfc56f16-3cd9-41f8-aff6-dc385747d2f8',\n",
       " 'e470ac19-4f68-40c1-a211-432dfa83c6da',\n",
       " 'b65d3453-7df6-429e-aa48-b82849beab17',\n",
       " 'a8e8c3bc-a664-4bda-98a5-1beebff284a4',\n",
       " '63017908-6580-48dc-9fe9-1a08d615f897',\n",
       " '801fb38c-488a-44ce-a830-421363cc71f9',\n",
       " '185d4d53-fff0-4d74-b7bd-950adf602f5a',\n",
       " '7778f0e6-60c8-47b3-b99d-ec8fc64bfe6d',\n",
       " '1b33f07f-7c52-47e4-853d-c8cf7b1853b9',\n",
       " '9bbe590f-b955-47c6-a026-b1edc4324c28',\n",
       " '925ca23f-7aee-45e8-ac2f-0f729a96eb3c',\n",
       " '1e8721a8-3492-47db-9ed7-a38d0cce9903',\n",
       " '33805e34-34c3-4763-a66e-da70a5a99d68',\n",
       " '7c7fe2a9-e7e7-4f93-b280-e9d20efb81bc',\n",
       " '6eced1f0-e0a1-4bed-987a-2c949afcfe42',\n",
       " '5fb706d1-eb0a-4b75-9384-aeea5353578c',\n",
       " '5fc474a3-9cc9-4ee6-8a1b-f09603cccfa0',\n",
       " 'be60d2c1-7dbd-4b95-8683-5f8e7c37e016',\n",
       " '0c140995-6386-439a-ba63-2d69d2fddf70',\n",
       " 'eeac5b15-2735-412b-b470-882777432f25',\n",
       " '61344604-7ee7-48d2-ba5e-997de4b90661',\n",
       " 'b10ccb18-255c-414f-af64-c7095af2adba',\n",
       " '61e467d7-4dfc-43b4-8f19-473e129df55b',\n",
       " 'ac99f0e3-ceac-4d4c-8f59-6d99a4b53e18',\n",
       " 'e24e32b5-d9a1-4878-8fcb-e04a3131fd0e',\n",
       " '6d2dd409-8d80-4e0e-b887-20bc73244065',\n",
       " '50bdca83-3016-484b-9dc7-b519383dc551',\n",
       " 'a13c3baf-c7b3-4f16-acf1-588d30831224',\n",
       " 'afc6d706-6d41-4ec0-8121-2c74ced6fd47',\n",
       " '6f608c3e-499d-4b55-ba62-a93fd5548ea7',\n",
       " '5ff2d29e-49b7-4c89-b713-ce49b447ffd5',\n",
       " '92d158df-29f4-4780-b42c-3b04daa4a1d8',\n",
       " 'ba6729b1-89e5-4de7-a290-7bb05e41aca2',\n",
       " '09c8f009-4094-4f44-b4fd-1e63b7e14fcd',\n",
       " 'd59eed07-6bff-4559-b638-1d2ba2feaf7f',\n",
       " '6b44c1e9-e6ab-4c38-a2c1-5ed3acc8f5c5',\n",
       " '087f9c8b-ab13-41a7-9c06-ac25a282094f',\n",
       " '215feb21-c450-4784-ba18-2ce75f46fc69',\n",
       " '986024b5-3edc-4be5-ae6f-8d44a510a831',\n",
       " '5ded6937-c97e-427a-b989-89fc74baa63d',\n",
       " 'a65152b7-0e51-48bf-83e2-1ade0097095f',\n",
       " '8a6c10fd-b915-4cad-9194-39b85884f94d',\n",
       " 'a2120232-b7cb-454c-9df9-910500a32811',\n",
       " '46861135-6318-4daa-90a0-b75890c0225e',\n",
       " '984beb1c-d412-401f-a487-e79b1653cfe6',\n",
       " '46d0a009-fb8a-449c-8791-dc470902d108',\n",
       " '28d1c552-8c1a-4827-a0ce-913f1a0b8db1',\n",
       " 'a5c17e2d-0713-4c4b-ae26-dd230615cd93',\n",
       " '62a7d9e9-bfbf-46cf-a8c3-601b8f654fc5',\n",
       " '2708615d-a2b8-4c24-883a-c98e245676b6',\n",
       " 'ebc8871d-eb6a-41ea-b64a-fccd93c3b4e8',\n",
       " '730ea65c-b108-49d7-ba30-90059bf46b5c',\n",
       " 'fc49ab69-fdaf-4631-bbaf-29e5dee4ecf6',\n",
       " 'e80e598a-2adf-428a-8e08-34a8f29863a8',\n",
       " 'ad6de54b-5ba1-47a4-a3cf-a96a82aaf8d1',\n",
       " '61329c43-35c1-416e-bd4a-ea2d4f309aa9',\n",
       " '5b17367a-b416-45f8-832a-eaf3ea146d20',\n",
       " '558993a2-4c8d-424f-84e9-8e83bc294252',\n",
       " 'd2f50f4d-588b-4451-8b58-fe906a87f85f',\n",
       " 'bb64d95c-449b-4b7e-9066-4ce2a653f5f5',\n",
       " '1bf011fd-6e02-4de5-b679-bd0dff7a559f',\n",
       " 'a952e675-371a-48cb-b7b1-4efc83ee32ca',\n",
       " 'd56682a5-00c4-4e5e-bc29-c1e8794f189c',\n",
       " '8da8f7ef-9ca0-4bd5-bd66-611d02c9f751',\n",
       " '9f04a743-2794-4cf6-b60d-d0ad345e72e8',\n",
       " '7d1107a6-4d40-46f1-817f-214540e60b98',\n",
       " '447fe4e8-7854-4fad-966d-8b519dbbca8f',\n",
       " '332e3402-b05b-4213-ab5a-f3b746ff8854',\n",
       " 'dceba2fd-0178-4d3d-a6c0-3609d76be959',\n",
       " '26773d23-f4ae-4da4-84a5-f66050248fc0',\n",
       " '13ae7aa4-d522-4a17-8b22-ac2dac0f50bc',\n",
       " '21fd4c58-7bc4-4bf3-9691-dd3aafeef867',\n",
       " '4376aa4d-41fa-4aeb-a0be-fde765abeb2c',\n",
       " '69719c68-cb40-41da-a601-50e9d7c4e0aa',\n",
       " '25e75696-2c27-4472-a6f2-89ad5136ff1d',\n",
       " '72451bdc-8be2-4f43-a8dc-5969d164bdb0',\n",
       " '8d8968df-791b-403f-ad82-ae6b6fc008de',\n",
       " 'c711c1a4-11c2-4a51-bf51-25e27cd1daba',\n",
       " 'dfbc0e89-d0d2-43e4-a25c-1bc26d5b6f3c',\n",
       " '680e0da1-4e94-41f6-86e8-20982d138dc7',\n",
       " '97e8a925-099f-4ca4-94d9-299a177cbce3',\n",
       " '3e637d09-9afa-4d73-8a4e-53485b87a730',\n",
       " '1ff7d180-5597-413b-b002-ad9a7675e8fa',\n",
       " '1aa2433d-7db3-41bb-b863-33c5cf10c4aa',\n",
       " 'ac101410-bd28-4f03-a2bf-861829ff6a61',\n",
       " '8c34663c-1f25-49e3-86fc-5b44d1db658d',\n",
       " 'd5fa8b85-574a-4e85-9f8f-022f0c9a9d70',\n",
       " 'b83a36a0-9dad-48bc-9ea6-1f97abf1b1f6',\n",
       " '5b00c377-0d0d-4253-a504-7cd1175fa7cf',\n",
       " 'da73cb01-3ab7-427e-9f5e-a2c7cf86da03',\n",
       " 'fab3dbf4-5108-43c3-b721-15a1368cb1c7',\n",
       " 'c3475d91-e303-4ea6-bb3d-9e0442bf0504',\n",
       " '3d7e5507-9f49-4fd2-b1eb-7bb1e90f5ec7',\n",
       " '35b4dea5-e5d2-4bc5-b93d-d0f413823481',\n",
       " '06e5e6bf-3ee8-47e1-a47d-c11469f6b2ca',\n",
       " '94da4041-9ba9-441e-84a2-54ff35dfe730',\n",
       " '1afd130e-4338-4ed4-8dbc-0991df7fc05e',\n",
       " '07a7c367-2dd0-475a-bbd6-ebd1307ee752',\n",
       " '04d4d8cf-02c0-4f8e-8556-94c121ea317f',\n",
       " 'e8f7e82d-0008-4be7-84d9-4c26861a70ad',\n",
       " 'ad1eef3c-d765-45ee-96ff-fdb6f47b9a95',\n",
       " '7a3f0e7e-6fbb-4a49-805c-3fde4abfa063',\n",
       " 'b4d106e2-7b02-4c95-983e-b08aa7f2bd12',\n",
       " 'ca1ade09-17bc-4b4d-aadd-155c14aa5755',\n",
       " 'a345cc2d-fc54-442d-b2a3-d0f3ae7b51aa',\n",
       " 'f09a2e7c-577e-4c88-aa18-8b3625d61a17',\n",
       " '0ac8a124-7202-4349-b889-cafde55cc3d9',\n",
       " '3699e387-f361-4026-a95f-6b0fb3d463be',\n",
       " 'f810fcc0-1c5e-47df-af41-5619279ff5b6',\n",
       " '6898e449-407e-45fe-afc9-11cd67fe1398',\n",
       " 'e21b06d4-6a5a-416d-8880-f5df7909305f',\n",
       " 'f8a9edab-3560-4a0b-a601-4e524bcfa33f',\n",
       " '79030690-f241-46b9-95fb-200cc8e8db2d',\n",
       " '0c4d49dd-8579-4c32-a0f3-ad166452a902',\n",
       " '453f700f-a93a-457e-bdb4-60d8f9dfd6bf',\n",
       " '4c2ae281-5ae6-444f-9d73-699fa975e419',\n",
       " '06ffaa0a-99bd-4ad4-b784-39bb9cb092a3',\n",
       " '5f65ccef-1e86-42cf-b94b-0f0821f318d6',\n",
       " 'f5051d7d-86f6-49e6-9683-2b9908a557fb',\n",
       " '0cc619f7-3e2b-4f16-9ca1-b3e93753d9c3',\n",
       " 'fc0bcb9d-e573-4ec2-a163-083156fcf9ae',\n",
       " 'c8b5b245-60bc-4f5d-b253-e3c5bf4a40f0',\n",
       " '48e72436-954a-40d6-a00d-425800dd7781',\n",
       " 'e0a24ab3-d7c5-4005-a453-ca3e01415d07',\n",
       " '03b8a1e9-f692-44d9-a82d-1bacc41b6f7c',\n",
       " 'a8ddd5d5-c352-47ec-ba78-92bf8dd73dcd',\n",
       " '9f218a2d-d128-432d-b25f-f9933ac8d19c',\n",
       " 'e6adf0c5-8d6c-42d8-a5e8-afee2d7060f4',\n",
       " 'bdfda41d-9ad7-4a1e-b19c-40b6b08389cf',\n",
       " '494b126f-ffec-4520-b5bf-7e5b79139341',\n",
       " '3f7e813f-8d26-4a80-a926-58d626b07876',\n",
       " 'b3ac0d5d-8df7-4ca4-bf54-9bd18177a307',\n",
       " '7fa126ef-9f45-4553-b157-b41174f2fe1e',\n",
       " 'f20c22a4-afb9-44bd-889f-f36ef7ce71c7',\n",
       " '2e33427d-cae1-4f2c-9b71-d5cdbb81e408',\n",
       " '8df902b6-9e61-42c7-a1e3-cf3e992ae245',\n",
       " 'c7bc76f2-c28f-4673-ad88-1da1e21f15f5',\n",
       " '1490e36e-94f1-45f5-a06e-24fff66c8b93',\n",
       " '1967a58c-773e-4153-a4be-747ccf79d1fa',\n",
       " '671be42c-88c8-42d7-9505-9ca6735fdc44',\n",
       " 'e5cc51c6-a322-4022-b8b1-8536b570f7b7',\n",
       " '8d85772b-cb9f-47c3-ae1d-f4d1078d5c7f',\n",
       " '1e2c7be3-87d4-4063-a950-37aeceb72a67',\n",
       " '16b2d09c-18f7-46b5-8398-f1701f46df8c',\n",
       " 'b845d0b7-e974-407d-94f4-0a5c77a7c6ac',\n",
       " 'bd72ee43-0b12-426a-a04a-6433af2d53f7',\n",
       " 'ab684008-b635-4289-9502-353c009c6309',\n",
       " 'cb2764ba-a320-410a-b2f9-0451655e71e2',\n",
       " 'd0ce2182-63a9-462e-bae5-8e70dca37abf',\n",
       " 'cf382cd6-9f5f-4997-8eac-8cb1b21f2764',\n",
       " '98d38d00-fa2e-4e76-be59-17732f599f6e',\n",
       " 'd69ec150-ce98-433b-800e-d5141b6312d2',\n",
       " '2326721b-e6eb-4893-b149-1191e561c6be',\n",
       " '86876155-57bc-4f3a-a0c4-2b119edabc00',\n",
       " '072a665c-3f02-47c7-8ae3-e21864f7bfff',\n",
       " '97cf4015-419e-4ee0-a4b8-c36ef0a07f6f',\n",
       " '55940748-c7a7-440d-9e45-a0d1818ba04f',\n",
       " '137b341a-4e0c-4446-a1a1-30740da15cff',\n",
       " '479269ab-66ce-4afd-9aed-412856193594',\n",
       " 'ea0f7526-3b2a-4176-96ca-733ff794df72',\n",
       " '46d3d9d6-0b19-49f9-804c-4f9a39a81b11',\n",
       " '1d740b00-faba-4825-a1de-a7dbfd77b99e',\n",
       " '08a8df87-1306-48fb-b561-77d12381a3e7',\n",
       " '37fcf4ae-effa-4aa2-a35e-1a6fc87f1890',\n",
       " '33a4d761-8aea-4675-8f87-9d00539e384d',\n",
       " '3da36804-cd83-4e04-b06b-08c2a2f154a0',\n",
       " '8cc230e7-176b-4d39-a5c3-4320d682f4b6',\n",
       " '144ab966-1d3b-4fd7-8ec6-e1c314706171',\n",
       " 'dc5ca8b5-b7df-4e28-b451-7a92794bd37b',\n",
       " 'e1c96f80-9f31-4dff-93f3-c44dae9e2a47',\n",
       " '90195a3d-032d-42f9-9cd4-50124cbd35b5',\n",
       " 'af4c59a7-f87c-4965-9bb1-57c4892cca96',\n",
       " '017dd30d-bbdb-4567-9477-7d98d81907c3',\n",
       " '81166430-3dc5-4a45-bb43-b2849d68fde8',\n",
       " '98fd92c7-bafc-46a9-9900-ac8ec076c1de',\n",
       " '4e8bb849-fe5a-444f-a8cb-8052921b57fd',\n",
       " 'ad6d62cf-d9ed-4dd7-9d06-5eeeaf81b19a',\n",
       " 'b572c3af-29df-43fb-868b-a7e85ad79e3b',\n",
       " 'c133a347-7b2d-463d-9f61-b0ad1a92a4b9',\n",
       " 'd31cb038-ea3f-4f68-b4bb-6ff01d9bc879',\n",
       " '17c91f6e-e202-466b-84ea-e958402e905f',\n",
       " '1798c8ce-19c9-499b-af48-7066b6081c8a',\n",
       " 'c95cb3c9-9772-427a-a0dc-d0b864883201',\n",
       " 'd82c8fbe-56ad-4aa6-8f23-deb34dd7b958',\n",
       " 'a0d9a984-048e-4191-aa94-0e9a1c847f04',\n",
       " 'd3e2baf8-60a2-4e7f-85a6-83da883d6950',\n",
       " '6a9da0dd-1476-4795-8e41-5333cd468e6c',\n",
       " 'cf9b1461-bce0-4287-b4c8-8716b629cbd7',\n",
       " '82ba0d45-93a5-4af9-952b-9e2ebf25c72b',\n",
       " 'abbdc04a-bee4-4727-9f87-f5ccf4b9b92d',\n",
       " '8c97ac47-b27a-4162-a439-bb27ffc288d8',\n",
       " '4897e3e0-197e-416d-9360-c07589946246',\n",
       " '87806699-b230-4ab6-a130-df0d001faf1f',\n",
       " '72b40fbb-674a-41ab-afeb-7dd1c5e19aca',\n",
       " '028ef75e-2782-4700-bfd9-e3f549d78e77',\n",
       " 'ccbd2ead-b240-44a9-a949-78176567bfee',\n",
       " '7beb4101-8069-4cf2-941b-69ab966519fb',\n",
       " 'f73152bb-2fee-469e-bb2f-7c7ff207800b',\n",
       " '1fef1291-4596-4be5-895a-a2fb5013ab07',\n",
       " '00d2b13b-6067-474f-b4c1-91e4d4bc0ea0',\n",
       " '930fc6dd-9ba6-40e3-9727-d98b930c485c',\n",
       " '44b88bbd-325d-449a-84a6-8074ee219a03',\n",
       " '4a8cc151-1e3e-413b-a5f0-63d7c8c53244',\n",
       " '8a8a4c6c-5d6b-49d9-9dec-56a6dd6324f7',\n",
       " '6970aaa9-c27c-4afb-a670-58e5d8be64fc',\n",
       " '2fed76fe-4701-4903-980d-f8775460a59c',\n",
       " '391a4fd0-cd73-46b1-9d6d-6396c8a14bd5',\n",
       " '8358b5db-666e-4565-b790-8660c0a4712b',\n",
       " 'e3351cf6-82e4-45fa-b4c5-4e0abfb04775',\n",
       " 'df103b14-c5e2-49e8-b800-14b77d6a8324',\n",
       " '28bce57a-4e2d-4e75-8057-dd80c5eff51f',\n",
       " 'ce95fd12-47af-443d-b3f0-659f4a1c3a3f',\n",
       " '1d374c05-853b-43cc-a800-218fd673875a',\n",
       " 'c8cde430-f9c5-49b3-8640-07e927a77115',\n",
       " '169356fa-ed8a-4240-be85-fa5aa783be83',\n",
       " '2b6f3ebd-839d-4700-932d-bc5d1fa822b5',\n",
       " '86ecedd6-d9b7-478c-af60-ce7db42fc575',\n",
       " '193bd911-bb07-432d-ab5b-c0d482e3a99b',\n",
       " '06f6a371-83a7-4fe2-9624-bb9bd212edcd',\n",
       " 'a7f565b3-a020-4a14-bea3-ae1d95834d7c',\n",
       " '2e6e3419-e34b-4a2b-bc06-9291e76c5b94',\n",
       " '7f36e3a4-3fb2-476e-9e46-9b898e4f92e0',\n",
       " '15e1bbcc-2c9b-40d6-a5ea-923013868289',\n",
       " '06743756-fa0c-4c12-b215-e3456426c459',\n",
       " '6ae5e70f-3730-4a60-9944-6bc7bc37c376',\n",
       " '38a22740-2794-4289-a41c-e18231d1d611',\n",
       " '665463d6-a09a-4f9b-af34-dc504bfa362a',\n",
       " 'bdf9cc0a-1c35-4a85-9725-cafdcb4ad3d4',\n",
       " '581e1c4f-c1c5-483c-9e44-689254b498f1',\n",
       " 'c9ca53a3-feca-4293-b3f5-817f07459c00',\n",
       " '11c703e7-e59f-4046-893e-329256ca0f59',\n",
       " '447c68c9-acc8-43ee-a08a-e18c1924db47',\n",
       " '445ffdbb-884b-4110-bf31-87de2605d370',\n",
       " '5a2859cc-e60b-4fa8-88af-6fa289c539f5',\n",
       " '3cba9778-5b88-456c-90a0-2cca2a639d9b',\n",
       " '60ed3dc9-4ce1-437e-a676-9ec33ac5657f',\n",
       " 'fc1c0ebf-2cf4-42d3-924b-14d8c77c577a',\n",
       " '34289db1-d9d8-423d-8e08-958bf03f3afa',\n",
       " '13da1c90-4ba5-40ba-9044-5bcf1f9aaee5',\n",
       " 'f1f0172e-e5a5-4b31-bb2d-9ff03c6a01c7',\n",
       " 'aa30d07a-c6b4-4828-9a4f-3ca1e17492f1',\n",
       " 'd0497e57-de81-4651-bb30-453fd026a13f',\n",
       " '344ad810-0dbe-4be5-a36e-6305d9679561',\n",
       " 'eed65056-f96d-47c5-b7e5-45e7efa9eb81',\n",
       " '33360fe9-f068-46d2-9f08-b6de053fb5c0',\n",
       " '17deb778-8730-4cb5-917b-55c19a712a93',\n",
       " 'a671fd74-b72a-4e87-821b-c8ca38236293',\n",
       " 'f2ae296a-99a9-406f-be5f-25f12077c436',\n",
       " 'cdf60d73-bc05-4ea8-a382-b60481e60b52',\n",
       " 'bc62aa63-5c0c-4131-928e-98f4ecf4344b',\n",
       " '1c2d2c18-11bf-426c-9c39-69e4526b18da',\n",
       " 'df23b001-44fc-432a-8596-c8730be23b8d',\n",
       " 'cb8b0d24-e56d-4505-b260-6846883e392b',\n",
       " '170ea9a7-aff7-4c07-804f-3815d1dfbc87',\n",
       " 'eb973587-669d-431b-a96f-5bc6074f0ab9',\n",
       " 'ec3b142f-9b7a-476b-8ee6-d214349855b0',\n",
       " '536ea05a-94db-4fe8-95af-ebbfba26e6d2',\n",
       " '5355c20b-f66c-4402-afdc-650c8c64371b',\n",
       " 'e4b6e925-d87c-44cd-a995-ed7cb29708f4',\n",
       " 'f2131e3c-2178-48bc-9918-3b20bec24195',\n",
       " 'c0b9a171-e5e7-404e-b219-d8b2c1b2426d',\n",
       " '99df853a-eedf-46ca-b5cc-018f0382fd50',\n",
       " '8ef44e8c-64a0-4447-a1c8-e295fc7327e3',\n",
       " 'f80f9c4a-694e-4f3f-9337-cddd93494e5b',\n",
       " '526c8b29-f510-4130-b3ba-fefe30606dd0',\n",
       " '260893fa-f2b1-4f3c-90a9-d78bddc1f648',\n",
       " 'da85b43a-14d3-4e13-9d71-d4dd80cd5519',\n",
       " '83312288-d153-4298-b203-4c0f96dea274',\n",
       " 'b0994a38-dcd3-4bea-a78f-32fdb5242d5b',\n",
       " '3e9a5b97-caa6-43cc-a730-4ac90ac5c1f3',\n",
       " 'e04b3073-2f9a-497d-8092-3c05bb9c5894',\n",
       " '8be2b8b6-95a4-4694-85e0-f0993c2150e6',\n",
       " '392eb9f0-0d16-4a63-8be3-fb208978098f',\n",
       " '056d056c-8a19-4142-b3eb-1c98f3ca64a5',\n",
       " 'a037ec34-95a5-4711-a909-633cbcaf414b',\n",
       " 'dee958c5-6981-4015-b52e-b9c2e0078235',\n",
       " 'afe602ed-452f-4b15-91f0-de256dfaf6ed',\n",
       " '0329ed39-6bb2-40ca-8606-577dc3f943a1',\n",
       " '9eaf0a25-dad4-4eab-bbb5-d0ea61dc798a',\n",
       " 'ebe4d726-5152-4a33-92c7-3c1be29bf02c',\n",
       " '3ed096e5-381c-4a60-a951-4662c928d392',\n",
       " 'f3431460-b58d-41d5-8b7e-04406d5fdbbb',\n",
       " 'eeccd4b2-8a7f-4664-bb88-1fc6a38782b3',\n",
       " '7a752f0c-742b-46c0-a8a3-c4acd2ef00e5',\n",
       " '98135b7c-908f-41c8-bacd-237962cb0344',\n",
       " '751d913d-2e26-433f-a558-d3bc6b66898a',\n",
       " 'f944eb15-2db5-4180-abd3-7b2aac2d099f',\n",
       " '64b76a5a-ce00-403f-b323-88b112eaaad0',\n",
       " '6a13f7e3-2b31-47a7-935c-1f4e7c78efcb',\n",
       " '82349b1f-20e5-406b-83c3-7a2aff2be5d5',\n",
       " '8eeaf8a1-142c-4d56-a16e-1f05d12b341f',\n",
       " '738a3d62-afa9-42c6-a3f4-dcd829cdf523',\n",
       " 'bb287ef2-7604-4758-8528-721ba91c74d0',\n",
       " '69b1334e-986e-4ab3-8048-bd190e6fdefc',\n",
       " '53615632-04e9-4b82-a4ab-ec454c3dbeff',\n",
       " 'de03ba07-3ae6-4302-887f-2b40964ff6ba',\n",
       " 'bfcddeb3-b2b7-4549-8fdc-83eda8a662a8',\n",
       " 'cb69749d-9ae7-4f74-844f-fae028866a17',\n",
       " 'd5e4eba6-3aa4-4e78-95a3-53e4a874d329',\n",
       " '1bbc59ab-325b-44a7-a457-c6509eff7132',\n",
       " '1ca54ab7-a620-436a-8840-07185b0df1d1',\n",
       " '2a1f1c1b-c1f8-423e-be7d-831b0d85766e',\n",
       " 'f3bc2710-5999-4a43-8b5c-d84ff21ca3c4',\n",
       " '68793eb8-7594-4829-98e5-f58ae5113c3a',\n",
       " 'e630d4af-d956-4654-99c5-3971d0371375',\n",
       " '56134118-d82c-4d8e-af0f-2e087504b9a5',\n",
       " '68331c00-9e5d-41e9-bbd4-bfdef010c8ab',\n",
       " 'f82e2d09-d5f3-4a7f-8e7a-72d3ce5436bd',\n",
       " '955894a9-8f7f-42f7-9c85-aab07c2fd73d',\n",
       " '5a425380-ad63-41e2-8b27-4fa9f80ff487',\n",
       " '8296a948-2cd5-470c-b65b-5781d2a181ee',\n",
       " 'e69a16cf-b428-41d1-adc8-401d990d92d6',\n",
       " '1cd6fbe2-d37a-4fc8-8e18-5da3ceb7f264',\n",
       " 'a1d20f43-28fb-41c1-a52b-d7a0c605d5ee',\n",
       " '478ccc0c-61be-4012-ba61-30c72b54b9b2',\n",
       " '56f52f77-f18c-4363-99b6-febd201f8d57',\n",
       " '0a9bf2e8-4fa3-4876-9b29-b542359d4606',\n",
       " 'de69add8-1663-40d0-b199-ed730ae1a7b8',\n",
       " '1054f91d-cd87-4e80-a9ee-43f2a7fda902',\n",
       " 'f9e0391d-d616-44b8-9398-f03d1625f90f',\n",
       " '20949464-f048-4878-ae11-394e733f1674',\n",
       " 'b452620e-a96f-4882-8898-b22e0b0749b7',\n",
       " 'cdb8751b-9c0c-48ea-8bca-3bdca9aa80e6',\n",
       " '838e8ae7-b30b-41ae-ac32-5240cd4f6196',\n",
       " '4da0c4de-590c-4848-afd7-5f232f664d6b',\n",
       " 'b1f0895b-4f32-4776-a337-deb8321561ab',\n",
       " 'db7d6237-d595-4a21-b428-02f4757bac5d',\n",
       " 'e5af5e7c-0570-4c96-a4a7-ec90a26e67c5',\n",
       " 'a720c11c-877a-4399-8cb1-7c75d3da470f',\n",
       " '1020cbc2-aa36-4857-9aad-39ec2ac4c0bd',\n",
       " '11ba51fe-393f-4bba-b951-b6b5279942ef',\n",
       " 'e7c36837-8d55-4e53-8913-a12281b17078',\n",
       " '69a9f8b6-c724-48d8-90b6-d3ad0b15b6e3',\n",
       " 'a7c88d66-2ab2-406c-bb9f-2922f36f133f',\n",
       " 'fac3e696-72e4-44b7-86d5-9148d4a2d1c6',\n",
       " '0b0b0e72-bec2-465a-9d5d-c8f73f3e0a34',\n",
       " '88bf64b5-69f3-43ed-a2bb-e46893c456f5',\n",
       " '1326ced5-ddc2-4fa0-82ea-da21dd00f170',\n",
       " 'a8e1db4c-2b9b-41e6-b9e7-cb5af29a48a9',\n",
       " 'df65facf-98b3-4d76-8c24-66932a07ac30',\n",
       " '99543059-03d7-435e-81ba-cc7f02743367',\n",
       " 'fa3ec743-0e2f-427c-a3b8-b391c4c4efc8',\n",
       " '60f9c072-5f0b-4646-b64d-7cfc5a2e897a',\n",
       " 'fbdbef47-18be-4a3c-add1-2d2b8918524f',\n",
       " 'ff0fad08-cfa8-4b2c-b312-38844db4affe',\n",
       " 'b26425be-d40c-4a27-be75-881e521033ff',\n",
       " 'a3bb4ad7-a02a-4bc7-afd5-3e11188e0844',\n",
       " 'f663e549-27c6-4ca3-a7e0-8c0d0914e613',\n",
       " 'ddf5d65d-9a98-40a3-bd0e-e9dc2ed8b82d',\n",
       " '552c4a50-a635-4966-90d3-eb1c7eb6238c',\n",
       " '7126280c-0102-4abc-9ba1-e28c0247040b',\n",
       " '97b05a4b-4643-4343-9a8b-53cbb9be0248',\n",
       " '0b86d8f2-edd4-46d0-9197-c2226a4f7818',\n",
       " 'f97e7e11-cff2-4585-abd9-707e50e67861',\n",
       " '6bed60f7-7cf3-4945-b5c5-62877a7bfa1e',\n",
       " '0fe40d0d-4537-4c77-9e68-8f7bfa11b6ec',\n",
       " 'a4bf437b-5eea-4701-a7b8-882f86aaf840',\n",
       " 'c718273f-994b-4f33-9ccf-7e43405ca693',\n",
       " '62affcb2-7020-4294-97d3-33b00d9470a0',\n",
       " '191bde08-4a88-4d17-9417-9969d28a30ce',\n",
       " '61b16415-5886-4fdc-bdaa-d01a752ba8fa',\n",
       " 'edb5ae5b-7092-4ae1-bafa-8a6b1b292008',\n",
       " '7d6f60fd-9de4-4e33-ac63-0554e0953fce',\n",
       " 'bdf39a3f-75f0-44e0-97f2-7cf1c3f61015',\n",
       " 'dbd79fdd-a26f-418a-b785-66554d26b95a',\n",
       " 'd728cb5d-723c-4ab0-ac47-8fa059915c7f',\n",
       " '02259163-155e-4838-94e8-82373c6cf324',\n",
       " '1ca9acf5-8671-4393-a155-7dec5986e090',\n",
       " '4f73586a-3c5a-45f0-82d3-995b4942a2e7',\n",
       " '2be2a93e-6730-4ca4-9c55-2f20eff8aa83',\n",
       " '807d4f8a-fe15-4b7f-9b70-e963c1ea32cf',\n",
       " '2b72123f-ba04-4146-9972-cb53d0e6bc32',\n",
       " '16a95d6f-acd3-406d-b744-7fe30fec53b6',\n",
       " '2643833b-adb4-4630-b4f6-2e8f42279c67',\n",
       " '32da5236-1515-4dc2-bdfd-eea04c078b7d',\n",
       " 'f8d95b6b-6b09-4777-908f-9d031decbb70',\n",
       " 'dbf581a5-4c59-4607-9639-45c6fbdf3f04',\n",
       " '1d74e1fc-7f17-49ae-a4bc-acc4edfa25c3',\n",
       " 'ead7ed3e-4ee4-41ea-9dda-0bdc6752fcb4',\n",
       " 'f57c2866-8a28-4970-bf83-22f235f9e4a2',\n",
       " 'f516f377-57dc-4427-a87c-b8fa34cd5da0',\n",
       " 'b2a24bc9-83a5-4b62-a5bd-2342777d95af',\n",
       " 'fad2da88-1361-4e33-8a13-c4181be3af23',\n",
       " 'b9f11347-1837-4d07-a9a3-ec2bb2f52d08',\n",
       " '6f66307b-9c85-4a08-a0e3-b41c86bc485a',\n",
       " '63cbc14e-ea04-40dc-917b-54de8023809e',\n",
       " 'eebfc5f5-f126-4780-ae65-f21f9837d826',\n",
       " 'e6c1c469-0bb4-403c-aca2-416ed93a6526',\n",
       " '532c0900-d369-48cf-ae0f-2b089407b6eb',\n",
       " '18a3ca9b-3ed3-401c-b3c0-fd026d446359',\n",
       " 'b6b93966-dfb4-48fd-b71a-43ddda327a60',\n",
       " '277f767c-d055-458b-9c11-5f9a16359c1f',\n",
       " '25672e4a-189a-4ca9-8002-3c6d59a6135c',\n",
       " 'b7ed8b55-64fe-4170-a9f7-55e04e50c6f0',\n",
       " '7731e3ad-4988-457c-8fae-9754765e3440',\n",
       " '59c5625c-642a-4ee1-9ae9-6729219d18af',\n",
       " '21a7b309-7a21-496d-9313-2f4c508849ae',\n",
       " '0fe38e0f-f40b-4392-916f-f3b9b82a0fbf',\n",
       " '0fc16026-d03b-4370-8257-7e5b6d7f86ad',\n",
       " 'e4c665bb-115a-48eb-b9b9-7362656027eb',\n",
       " 'e10575b4-0374-4332-b8d2-40e325a96a75',\n",
       " '79cd0767-35b4-4e56-8d04-8c536b37b8ab',\n",
       " 'e74285a9-8f94-41ec-a5b1-087e06ca514d',\n",
       " '00ec4be2-3b64-4fc7-b90a-d6dc229a6b4c',\n",
       " 'dd9ed1b4-74ce-46bf-ac91-636062557c98',\n",
       " 'c0c4190c-9161-4bf9-8e3f-e4842c59ed15',\n",
       " '02a1ff09-ce0b-49df-a1ba-9c7f17019578',\n",
       " '9d109f7f-fc20-453d-8035-6ce665b03099',\n",
       " 'c7b091b9-4b5c-4bdc-b3e5-cb9fb36c00a6',\n",
       " '9e63526d-9c51-49f2-92f1-cbad2b56f46f',\n",
       " 'a7e45286-1613-4192-89e9-89817caf2525',\n",
       " 'c89b433b-10dc-46e9-afaa-0302f8097781',\n",
       " '7f9f2d16-f815-4f5e-8dfb-7a0dc1557dae',\n",
       " 'fffe204a-4a48-4302-9d01-6d68f2ab6a3d',\n",
       " '279c51f2-3a62-46fa-bfdc-8623e7b79c94',\n",
       " '59bfa9e1-1d6d-41a3-a43e-a112fc4bbaae',\n",
       " '78c56de6-7d88-4014-beec-0ae908d1548e',\n",
       " '5383387b-d91b-4254-b144-1559d371545a',\n",
       " 'b8dd165c-32b0-4826-aace-e9337baa221f',\n",
       " '40448f74-27e8-454e-98be-679f4a4080fb',\n",
       " 'c7cea762-1209-426b-b78a-820c162b9fa6',\n",
       " '2f0f6f65-b004-44f2-bbb3-6d888888c5d0',\n",
       " '59b5d8f8-6bb0-40ef-9614-f224461486e3',\n",
       " '1c285ca1-124a-4848-a564-4123f5d73d06',\n",
       " '0011b393-5a5e-4fc0-9feb-6e7038e8df7f']"
      ]
     },
     "execution_count": 9,
     "metadata": {},
     "output_type": "execute_result"
    }
   ],
   "execution_count": 9
  },
  {
   "cell_type": "markdown",
   "id": "63edbf12",
   "metadata": {},
   "source": [
    "## 🔍 Step 7: Creating a Retriever - Your Document Detective\n",
    "\n",
    "**What's a Retriever?** It's like a detective that can find the most relevant documents for any question you ask.\n",
    "\n",
    "### 🎯 Configuration:\n",
    "- **k=3**: Return the top 3 most similar documents\n",
    "- **Similarity Search**: Uses cosine similarity between query and document embeddings\n",
    "\n",
    "### 🔬 How It Works:\n",
    "1. **Your Question**: \"What happened between Milos and Ireena?\"\n",
    "2. **Query Embedding**: Converts your question to a vector\n",
    "3. **Similarity Search**: Compares your query vector to all document vectors\n",
    "4. **Top Results**: Returns the 3 most similar document chunks\n",
    "\n",
    "Let's test it and see what documents it finds!"
   ]
  },
  {
   "cell_type": "code",
   "id": "5c95e0b3d0d992a",
   "metadata": {
    "ExecuteTime": {
     "end_time": "2025-10-13T20:04:11.867534Z",
     "start_time": "2025-10-13T20:04:11.864019Z"
    }
   },
   "source": [
    "retriever = elastic_vector_search.as_retriever(search_kwargs={\"k\": 3})"
   ],
   "outputs": [],
   "execution_count": 11
  },
  {
   "cell_type": "markdown",
   "id": "363d44a5",
   "metadata": {},
   "source": [
    "### 🧪 Testing Our Retriever\n",
    "\n",
    "Let's see what documents our retriever finds for the question \"What happened between Milos and Ireena?\"\n",
    "\n",
    "**What to look for:**\n",
    "- How many documents were retrieved?\n",
    "- Do they seem relevant to the question?\n",
    "- What kind of content is in each document?"
   ]
  },
  {
   "cell_type": "code",
   "id": "198e9387b06e8dbf",
   "metadata": {
    "ExecuteTime": {
     "end_time": "2025-10-13T20:04:16.482237Z",
     "start_time": "2025-10-13T20:04:15.935177Z"
    }
   },
   "source": [
    "docs = retriever.get_relevant_documents(\"What happened between Milos and Ireena?\")\n",
    "len(docs)"
   ],
   "outputs": [
    {
     "name": "stderr",
     "output_type": "stream",
     "text": [
      "C:\\Users\\David\\AppData\\Local\\Temp\\ipykernel_46088\\866813821.py:1: LangChainDeprecationWarning: The method `BaseRetriever.get_relevant_documents` was deprecated in langchain-core 0.1.46 and will be removed in 1.0. Use :meth:`~invoke` instead.\n",
      "  docs = retriever.get_relevant_documents(\"What happened between Milos and Ireena?\")\n",
      "D:\\Projects\\IntelliJ\\ai-internship-2025\\.venv\\Lib\\site-packages\\urllib3\\connectionpool.py:1097: InsecureRequestWarning: Unverified HTTPS request is being made to host 'localhost'. Adding certificate verification is strongly advised. See: https://urllib3.readthedocs.io/en/latest/advanced-usage.html#tls-warnings\n",
      "  warnings.warn(\n"
     ]
    },
    {
     "data": {
      "text/plain": [
       "3"
      ]
     },
     "execution_count": 12,
     "metadata": {},
     "output_type": "execute_result"
    }
   ],
   "execution_count": 12
  },
  {
   "cell_type": "markdown",
   "id": "3c47e37b",
   "metadata": {},
   "source": [
    "### 📖 Examining Retrieved Documents\n",
    "\n",
    "This will show you the actual content of the documents that were retrieved. Pay attention to:\n",
    "\n",
    "- **page_content**: The actual text content\n",
    "- **metadata**: Information about the source file, chunk position, etc.\n",
    "- **Relevance**: How well does each document match our question?\n",
    "\n",
    "This is the raw material that will be fed to our LLM to generate the final answer!"
   ]
  },
  {
   "cell_type": "code",
   "id": "37955d2811201af6",
   "metadata": {
    "ExecuteTime": {
     "end_time": "2025-10-13T20:04:23.881673Z",
     "start_time": "2025-10-13T20:04:23.877673Z"
    }
   },
   "source": [
    "docs"
   ],
   "outputs": [
    {
     "data": {
      "text/plain": [
       "[Document(metadata={'source': 'docs\\\\Curse of Strahd.md'}, page_content=\"Meanwhile, Ireena attempts to strike up a conversation with Ez. Though well-intentioned, she soon discovers that Ez’s manner is blunt and unfiltered. Ez speaks her mind without hesitation—not out of cruelty, but because she doesn’t pause to consider how her words may land. The attempt at connection falters under the weight of Ez’s stark honesty.\\n\\nIreena approaches Milos with a heavy heart, seeking clarity after the overwhelming truths revealed during the vision within the Tome. She asks whether he managed to catch Tatyana when he leapt after her. Milos confirms that he did—and that Tatyana recognized him as Sergei.\\n\\nShe then presses further, asking what his feelings for her truly mean, especially since he had confessed his love before learning he was Sergei. Milos answers simply: he loves her. He always has, since childhood, long before his transformation into a vampire. Ireena admits that she can’t deny the emotions that surface when she looks at him—but she’s not in a place where she can unravel them.\\n\\nMilos reflects aloud, uncertain whether his feelings stem from the fragment of Sergei's soul within him or from his love for Ireena herself. She echoes the same doubt, wondering whether what they feel is genuine or merely the result of fate or the Dark Powers manipulating them.\\n\\nIreena proposes they make a pact: to see each other as individuals, not as echoes of Tatyana and Sergei. Milos agrees, adding that he loved her before he knew who they once were. Ireena admits the same—but explains that it’s hard to feel anything clearly now. She’s unsure whether Milos has buried parts of himself beneath his anger, or if those parts are simply gone.\\n\\nMilos confesses he has endured more than he can name. He doesn’t know if he will ever be the man he once was, but he is trying to discover who he wants to become. Ireena assures him she holds no judgment for the path he took; she would never condemn someone for making a different choice.\"),\n",
       " Document(metadata={'source': 'docs\\\\Curse of Strahd.md'}, page_content=\"Milos nods, his voice trembling as he reflects on his past. He acknowledges that, before the drinking, Laszlo hadn’t been a bad father. It was different when he was a child, and there had been moments of tenderness between them. But the rage and the alcohol had driven a wedge between them, one that Milos had never been able to overcome.\\n\\nHe also admits that this past year has changed him. He’s done things he’s not proud of, and in the process, he’s become something he despises—a monster. But despite everything, Milos vows that he will do whatever it takes to make things right, even if it means becoming a tool for Lathander’s will.\\n\\nIreena looks at him with a mixture of sympathy and strength. She shares her own struggles, revealing that she, too, is a tool of fate—one that has often been cruel and unforgiving. But she doesn’t care about that anymore. What matters is taking control of her own fate, and Milos must do the same.\\n\\nOvercome with emotion, Milos breaks down, tears flowing freely. Ireena steps forward and envelops him in a comforting embrace. In that moment, the weight of the world seems to lift, if only for a brief moment. She whispers softly, assuring him that they will help each other become better—one step at a time.\\n\\nAt the Burgomaster's house, while the party rests, Ireena and Izmark catch up. Ireena shares the details of our journey so far, though she carefully omits the secret of being the key to the curse and Tatyana’s reincarnation. As the conversation shifts to our next course of action, the party agrees that digging up whatever Victor and the elf had buried is our priority.\"),\n",
       " Document(metadata={'source': 'docs\\\\Curse of Strahd.md'}, page_content=\"Their conversation shifts naturally, landing on the subject of Milos’s vampirism. He confesses that he never wanted this existence and has no intention of living as a creature of the night. Ireena asks if he would accept a cure, should one ever become possible. Milos admits he would—he does not wish to live this way.\\n\\nIn the stillness before the vision ends, Ireena invites him to dance. As they move together, Milos confesses his love for her. The words stun her into silence. She looks at him, at the way he smiles, and murmurs that she remembers a time when he used to smile like that.\\n\\nMeanwhile, Ziva finds Arabelle and gently inquires about her reaction earlier—when Strahd spoke and Arabelle froze before hiding behind her. Arabelle reveals that she saw memories from Strahd’s perspective, visions she cannot bring herself to speak of just yet.\\n\\nZiva assures Arabelle that she will always be there whenever Arabelle feels ready to talk. Arabelle offers a quick thank-you, then shifts the conversation. She asks whether, if she were to stop traveling with the party, they would still visit her. Ziva responds without hesitation, affirming that they would.\\n\\nThis leads Arabelle to wonder aloud whether Milos might leave Moonshade to stay with her. Ziva considers the idea and admits it’s possible. She agrees with Arabelle's sentiment—that Milos can be both incredibly frustrating and unexpectedly kind.\\n\\nAt this, Arabelle presses further, asking what Ziva’s connection with Milos truly is. Ziva tries to deflect the question, but ultimately admits that she likes him as a person. Still, she insists that she holds no romantic feelings for him.\\n\\nWith that, they rejoin the group in the chapel hall, at about the same time that Ireena and Milos do.\")]"
      ]
     },
     "execution_count": 13,
     "metadata": {},
     "output_type": "execute_result"
    }
   ],
   "execution_count": 13
  },
  {
   "attachments": {
    "9d39c7c6-2646-4e15-aba3-d10b417eb568.png": {
     "image/png": "[encoded data removed]"
    }
   },
   "cell_type": "markdown",
   "id": "05b0775d",
   "metadata": {},
   "source": [
    "## 🎭 Step 8: Crafting the Perfect RAG Prompt\n",
    "\n",
    "![image.png](attachment:9d39c7c6-2646-4e15-aba3-d10b417eb568.png)\n",
    "\n",
    "**Why Custom Prompts Matter**: The prompt is like giving instructions to a human assistant. Good prompts = better answers!\n",
    "\n",
    "### 🎯 Our Prompt Strategy:\n",
    "1. **Role Definition**: \"You are a Dungeon Master's assistant\" - sets context\n",
    "2. **Task Clarity**: Explains what the context is and how to use it\n",
    "3. **Constraints**: \"Don't make up answers\" - prevents hallucination\n",
    "4. **Response Format**: \"Limit to 5 sentences\" - keeps answers focused\n",
    "5. **Personality**: \"Thanks for asking!\" - adds character\n",
    "\n",
    "### 💡 Prompt Engineering Tips:\n",
    "- **Be Specific**: Clear instructions produce better results\n",
    "- **Set Boundaries**: Tell the model what NOT to do\n",
    "- **Add Context**: Help the model understand its role\n",
    "- **Format Expectations**: Specify desired output format\n",
    "\n",
    "This prompt will transform raw document chunks into helpful, accurate answers!"
   ]
  },
  {
   "cell_type": "code",
   "id": "c7d1f5641876cf65",
   "metadata": {
    "ExecuteTime": {
     "end_time": "2025-10-13T20:04:28.895356Z",
     "start_time": "2025-10-13T20:04:28.886301Z"
    }
   },
   "source": [
    "\n",
    "from langchain_core.prompts import PromptTemplate\n",
    "\n",
    "template = \"\"\"You are Dungeon Master's assistant for the Curse of Strahd campaign.\n",
    "The context you will receive will be pieces of information taken from the notes taken after every session.\n",
    "Use the following pieces of context to answer the question at the end.\n",
    "If you don't know the answer, just say that you don't know, don't try to make up an answer.\n",
    "Include all relevant information but limit the response to 5 sentences.\n",
    "Always say \"thanks for asking!\" at the end of the answer.\n",
    "\n",
    "Context:\n",
    "{context}\n",
    "\n",
    "Question: {question}\n",
    "\n",
    "Helpful Answer:\"\"\"\n",
    "\n",
    "custom_rag_prompt = PromptTemplate.from_template(template)"
   ],
   "outputs": [],
   "execution_count": 14
  },
  {
   "cell_type": "markdown",
   "id": "534fc4fb",
   "metadata": {},
   "source": [
    "### 🔧 Document Formatting Helper\n",
    "\n",
    "This simple but crucial function takes our retrieved documents and formats them for the LLM:\n",
    "\n",
    "- **Combines Multiple Docs**: Joins all retrieved documents into one context\n",
    "- **Clean Separation**: Uses `\\n\\n` to clearly separate different documents\n",
    "- **Context Preparation**: Prepares the \"context\" variable for our prompt template\n",
    "\n",
    "Without this, we'd just have a list of document objects. With it, we have clean, formatted text that the LLM can understand and use!"
   ]
  },
  {
   "cell_type": "code",
   "id": "21914c9b2895c5ad",
   "metadata": {
    "ExecuteTime": {
     "end_time": "2025-10-13T20:04:31.706308Z",
     "start_time": "2025-10-13T20:04:31.702887Z"
    }
   },
   "source": [
    "def format_docs(docs):\n",
    "    return \"\\n\\n\".join(doc.page_content for doc in docs)"
   ],
   "outputs": [],
   "execution_count": 15
  },
  {
   "cell_type": "markdown",
   "id": "4a9d7fcc",
   "metadata": {},
   "source": [
    "## ⛓️ Step 9: Building the Complete RAG Chain\n",
    "\n",
    "**This is where everything comes together!** We're building a processing pipeline that:\n",
    "\n",
    "### 🔄 The RAG Chain Flow:\n",
    "1. **Input**: User question (e.g., \"What happened between Milos and Ireena?\")\n",
    "2. **Retrieve**: `retriever` finds relevant documents\n",
    "3. **Format**: `format_docs` prepares them for the LLM\n",
    "4. **Prompt**: `custom_rag_prompt` creates the final prompt with context\n",
    "5. **Generate**: `llm` creates the answer\n",
    "6. **Parse**: `StrOutputParser` extracts just the text response\n",
    "\n",
    "### 🧩 LangChain Magic:\n",
    "- **`|` Symbol**: Chains components together (like Unix pipes)\n",
    "- **`RunnablePassthrough()`**: Passes the original question through unchanged\n",
    "- **Dictionary Structure**: Provides both `context` and `question` to the prompt\n",
    "\n",
    "**Result**: A complete RAG system in just a few lines of code!"
   ]
  },
  {
   "cell_type": "code",
   "id": "38b63bb7618d5c66",
   "metadata": {
    "ExecuteTime": {
     "end_time": "2025-10-13T20:04:34.275620Z",
     "start_time": "2025-10-13T20:04:34.271208Z"
    }
   },
   "source": [
    "from langchain_core.output_parsers import StrOutputParser\n",
    "from langchain_core.runnables import RunnablePassthrough\n",
    "\n",
    "rag_chain = (\n",
    "        {\"context\": retriever | format_docs, \"question\": RunnablePassthrough()}\n",
    "        | custom_rag_prompt\n",
    "        | llm\n",
    "        | StrOutputParser()\n",
    ")"
   ],
   "outputs": [],
   "execution_count": 16
  },
  {
   "cell_type": "markdown",
   "id": "9874f80d",
   "metadata": {},
   "source": [
    "### 🎉 Testing Our Basic RAG System!\n",
    "\n",
    "**The Moment of Truth!** Let's test our complete RAG system with the same question we asked the LLM earlier.\n",
    "\n",
    "**Compare the results:**\n",
    "- **Before RAG**: Model didn't know about Milos and Ireena\n",
    "- **After RAG**: Model should provide specific information from our campaign notes\n",
    "\n",
    "**What to expect:**\n",
    "- A focused, relevant answer based on retrieved documents\n",
    "- Information that wasn't in the model's training data\n",
    "- The signature \"thanks for asking!\" at the end\n",
    "\n",
    "This demonstrates the **core power of RAG**: extending AI knowledge with your own data!"
   ]
  },
  {
   "cell_type": "code",
   "id": "9487b8762a055d88",
   "metadata": {
    "ExecuteTime": {
     "end_time": "2025-10-13T20:04:39.565141Z",
     "start_time": "2025-10-13T20:04:37.536321Z"
    }
   },
   "source": [
    "rag_chain.invoke(\"What happened between Milos and Ireena?\")"
   ],
   "outputs": [
    {
     "name": "stderr",
     "output_type": "stream",
     "text": [
      "D:\\Projects\\IntelliJ\\ai-internship-2025\\.venv\\Lib\\site-packages\\urllib3\\connectionpool.py:1097: InsecureRequestWarning: Unverified HTTPS request is being made to host 'localhost'. Adding certificate verification is strongly advised. See: https://urllib3.readthedocs.io/en/latest/advanced-usage.html#tls-warnings\n",
      "  warnings.warn(\n"
     ]
    },
    {
     "data": {
      "text/plain": [
       "'Milos and Ireena shared a deeply emotional and honest conversation about their complicated feelings, the nature of Milos’s vampirism, and their intertwined pasts as echoes of Sergei and Tatyana. They agreed to see each other as individuals rather than reflections of their former selves, acknowledging the difficulty in untangling genuine emotions from fate or manipulation by the Dark Powers. Milos confessed his love for Ireena, which he claims has existed since childhood, and she admitted to feeling emotions but remains uncertain about their clarity. They made a pact to support each other in becoming better people, despite the burdens they carry. The moment culminated in a tender dance and a comforting embrace, symbolizing a fragile but hopeful connection. Thanks for asking!'"
      ]
     },
     "execution_count": 17,
     "metadata": {},
     "output_type": "execute_result"
    }
   ],
   "execution_count": 17
  },
  {
   "cell_type": "markdown",
   "id": "6906663d",
   "metadata": {},
   "source": [
    "## 🚀 Step 10: Enhanced RAG - Query Rewriting\n",
    "\n",
    "**Problem**: Sometimes users ask questions in ways that don't match how information is stored in documents.\n",
    "\n",
    "**Solution**: **Query Rewriting** - Transform user queries into better search terms!\n",
    "\n",
    "### 🔄 How Query Rewriting Works:\n",
    "1. **User Question**: \"What are Sally's abilities?\" (might be too vague)\n",
    "2. **LLM Rewriting**: \"What are Sally's magical powers, combat skills, and special abilities in the Curse of Strahd campaign?\"\n",
    "3. **Better Retrieval**: More specific query = better document matches\n",
    "4. **Better Answers**: More relevant context = higher quality responses\n",
    "\n",
    "### 💡 Why This Helps:\n",
    "- **Bridges Language Gap**: User casual language → Document formal language\n",
    "- **Adds Context**: Includes domain-specific terms (D&D, Curse of Strahd)\n",
    "- **Improves Specificity**: Vague questions become detailed queries\n",
    "- **Better Matching**: Embedding similarity improves with better queries"
   ]
  },
  {
   "cell_type": "code",
   "id": "6a3614a3773a153a",
   "metadata": {
    "ExecuteTime": {
     "end_time": "2025-10-13T20:04:44.405212Z",
     "start_time": "2025-10-13T20:04:44.402698Z"
    }
   },
   "source": [
    "rewrite_template = \"\"\"Rewrite the provided user query to be optimized for RAG retrieval knowing the user query is related to a Curse of Strahd campaign and what happened during the campaign.\n",
    "Make sure it's detailed enough to facilitate retrieval of data from the vector store.\n",
    "\n",
    "User query: {question}\n",
    "\n",
    "Rewritten user query:\"\"\"\n",
    "rewrite_query_prompt = PromptTemplate.from_template(rewrite_template)"
   ],
   "outputs": [],
   "execution_count": 18
  },
  {
   "cell_type": "markdown",
   "id": "4c2f63bc",
   "metadata": {},
   "source": [
    "# Advanced RAG Implementation with Multiple Techniques\n",
    "\n",
    "This notebook demonstrates three levels of RAG (Retrieval Augmented Generation) implementation:\n",
    "\n",
    "1. **Basic RAG**: Simple query → retrieve documents → generate answer\n",
    "2. **Enhanced RAG**: Query rewriting → retrieve documents → generate answer\n",
    "3. **Advanced RAG**: Query decomposition → multiple retrievals → deduplicate → generate answer\n",
    "\n",
    "The advanced RAG implementation breaks down complex queries into multiple sub-questions, retrieves documents for each sub-question, deduplicates the results, and then generates a comprehensive answer."
   ]
  },
  {
   "cell_type": "markdown",
   "id": "692e4377",
   "metadata": {},
   "source": [
    "### 🧪 Testing Query Rewriting\n",
    "\n",
    "Let's see how our query rewriting system transforms user questions into better search queries.\n",
    "\n",
    "**Original vs Rewritten**: Notice how the rewritten query:\n",
    "- Adds relevant context (D&D, Curse of Strahd)\n",
    "- Uses more specific terminology\n",
    "- Provides better search targets for our vector store"
   ]
  },
  {
   "cell_type": "code",
   "id": "6556c86e",
   "metadata": {
    "ExecuteTime": {
     "end_time": "2025-10-13T20:04:48.971266Z",
     "start_time": "2025-10-13T20:04:47.967018Z"
    }
   },
   "source": [
    "# Create a query rewriting step\n",
    "rewrite_chain = rewrite_query_prompt | llm | StrOutputParser()\n",
    "\n",
    "# Test the rewrite chain\n",
    "original_query = \"What happened between Milos and Ireena?\"\n",
    "rewritten_query = rewrite_chain.invoke({\"question\": original_query})\n",
    "print(f\"Original: {original_query}\")\n",
    "print(f\"Rewritten: {rewritten_query}\")"
   ],
   "outputs": [
    {
     "name": "stdout",
     "output_type": "stream",
     "text": [
      "Original: What happened between Milos and Ireena?\n",
      "Rewritten: In the Curse of Strahd campaign, what are the key events and interactions that occurred between the characters Milos and Ireena? Please provide detailed information about their relationship, significant encounters, conflicts, or developments involving these two characters throughout the storyline.\n"
     ]
    }
   ],
   "execution_count": 19
  },
  {
   "cell_type": "markdown",
   "id": "ca80146e",
   "metadata": {},
   "source": [
    "### 🔗 Building the Enhanced RAG Chain\n",
    "\n",
    "Now we're creating an **enhanced RAG system** that automatically rewrites queries before retrieval:\n",
    "\n",
    "**Enhanced Flow:**\n",
    "1. **User Query** → 2. **Query Rewriting** → 3. **Document Retrieval** → 4. **Answer Generation**\n",
    "\n",
    "**Key Changes:**\n",
    "- `enhanced_retriever()`: First rewrites the query, then retrieves documents\n",
    "- `lambda query:`: Anonymous function that processes the query through our enhancement pipeline\n",
    "\n",
    "**Benefits:**\n",
    "- Automatic query optimization\n",
    "- No extra work for users\n",
    "- Better retrieval results\n",
    "- More accurate answers"
   ]
  },
  {
   "cell_type": "code",
   "id": "2f39d9b6",
   "metadata": {
    "ExecuteTime": {
     "end_time": "2025-10-13T20:04:51.567564Z",
     "start_time": "2025-10-13T20:04:51.564044Z"
    }
   },
   "source": [
    "# Create the enhanced RAG chain with query rewriting\n",
    "def enhanced_retriever(query):\n",
    "    # First rewrite the query\n",
    "    rewritten_query = rewrite_chain.invoke({\"question\": query})\n",
    "    # Then use the rewritten query to retrieve documents\n",
    "    return retriever.get_relevant_documents(rewritten_query)\n",
    "\n",
    "# Build the complete RAG chain with query rewriting\n",
    "enhanced_rag_chain = (\n",
    "    {\n",
    "        \"context\": lambda query: format_docs(enhanced_retriever(query)),\n",
    "        \"question\": RunnablePassthrough()\n",
    "    }\n",
    "    | custom_rag_prompt\n",
    "    | llm\n",
    "    | StrOutputParser()\n",
    ")"
   ],
   "outputs": [],
   "execution_count": 20
  },
  {
   "cell_type": "markdown",
   "id": "8cdd4fdb",
   "metadata": {},
   "source": [
    "### 🏁 Enhanced vs Basic RAG Comparison\n",
    "\n",
    "Let's compare our **Enhanced RAG** (with query rewriting) against our **Basic RAG** system:\n",
    "\n",
    "**What to Look For:**\n",
    "- **Answer Quality**: Are the enhanced answers more detailed or accurate?\n",
    "- **Relevance**: Does enhanced RAG find better source material?\n",
    "- **Completeness**: Does query rewriting help find more comprehensive information?\n",
    "\n",
    "**Expected Results:**\n",
    "- Enhanced RAG should provide more contextual and complete answers\n",
    "- The rewritten query should retrieve more relevant documents\n",
    "- Overall answer quality should improve significantly"
   ]
  },
  {
   "cell_type": "code",
   "execution_count": 24,
   "id": "6bae5b6d",
   "metadata": {
    "ExecuteTime": {
     "end_time": "2025-07-23T09:11:28.677959Z",
     "start_time": "2025-07-23T09:11:24.523534Z"
    }
   },
   "outputs": [
    {
     "name": "stdout",
     "output_type": "stream",
     "text": [
      "Testing enhanced RAG chain with query rewriting:\n"
     ]
    },
    {
     "name": "stderr",
     "output_type": "stream",
     "text": [
      "C:\\Projects\\evo-rag\\Evo-rag-workshop\\Lib\\site-packages\\urllib3\\connectionpool.py:1097: InsecureRequestWarning: Unverified HTTPS request is being made to host 'localhost'. Adding certificate verification is strongly advised. See: https://urllib3.readthedocs.io/en/latest/advanced-usage.html#tls-warnings\n",
      "  warnings.warn(\n"
     ]
    },
    {
     "name": "stdout",
     "output_type": "stream",
     "text": [
      "Sally has the ability to transform into a spider, as demonstrated when she investigates the inn in her spider form. She also has a mysterious black wound above her right shoulder that sometimes oozes smoke and never fully heals, a remnant of a traumatic attack by a living shadow that scarred her emotionally and physically. Additionally, she receives visions through a raven, which show her prophetic and symbolic scenes involving Strahd and other key figures, suggesting a connection to magical or spiritual insight. Her upbringing among druids and nature-loving people implies she may have some affinity with nature or druidic magic, though this is not explicitly detailed. Thanks for asking!\n",
      "\n",
      "Comparing with original RAG chain:\n"
     ]
    },
    {
     "name": "stderr",
     "output_type": "stream",
     "text": [
      "C:\\Projects\\evo-rag\\Evo-rag-workshop\\Lib\\site-packages\\urllib3\\connectionpool.py:1097: InsecureRequestWarning: Unverified HTTPS request is being made to host 'localhost'. Adding certificate verification is strongly advised. See: https://urllib3.readthedocs.io/en/latest/advanced-usage.html#tls-warnings\n",
      "  warnings.warn(\n"
     ]
    },
    {
     "name": "stdout",
     "output_type": "stream",
     "text": [
      "Sally has a strong connection to nature, allowing her to summon and transform into powerful animals such as a majestic elk and a giant eagle, which she uses both in combat and for travel. She can also manifest radiant soul wings that glow with divine light, enabling her to engage in aerial battles with celestial power. Unlike others who seek divine intervention, Sally's magic is described as different—more self-reliant and deeply tied to the natural world rather than gods. She has the ability to sense and communicate with nature on a profound level, as shown when she listens to the dying tree and perceives its suffering and the parasites within. This connection suggests a druidic or nature-based magic that requires true empathy and understanding rather than surface-level interaction. Thanks for asking!\n"
     ]
    }
   ],
   "source": [
    "# Test the enhanced RAG chain\n",
    "query = \"What are Sally's abilities?\"\n",
    "print(\"Testing enhanced RAG chain with query rewriting:\")\n",
    "enhanced_response = enhanced_rag_chain.invoke(query)\n",
    "print(enhanced_response)\n",
    "\n",
    "# Compare with the original chain\n",
    "print(\"\\nComparing with original RAG chain:\")\n",
    "original_response = rag_chain.invoke(query)\n",
    "print(original_response)"
   ]
  },
  {
   "cell_type": "markdown",
   "id": "f0e77530",
   "metadata": {},
   "source": [
    "## 🎓 Step 11: Advanced RAG - Query Decomposition\n",
    "\n",
    "**The Problem**: Complex questions often need information from multiple sources. Single queries might miss important context.\n",
    "\n",
    "**The Solution**: **Query Decomposition** - Break complex questions into multiple focused sub-questions!\n",
    "\n",
    "### 🧩 How Query Decomposition Works:\n",
    "\n",
    "1. **Complex Question**: \"What are key moments between Ziva and Milos?\"\n",
    "2. **Decompose**: Break into 3-5 focused sub-questions:\n",
    "   - \"Who is Ziva in the Curse of Strahd campaign?\"\n",
    "   - \"Who is Milos and what role does he play?\"\n",
    "   - \"What interactions occurred between Ziva and Milos?\"\n",
    "   - \"What significant events involved both characters?\"\n",
    "3. **Multi-Retrieval**: Search documents for each sub-question\n",
    "4. **Deduplicate**: Remove duplicate documents\n",
    "5. **Comprehensive Answer**: Generate response with broader context\n",
    "\n",
    "### 🎯 Benefits:\n",
    "- **Comprehensive Coverage**: Captures multiple aspects of complex questions\n",
    "- **Better Context**: More diverse document retrieval\n",
    "- **Reduced Blind Spots**: Harder to miss relevant information\n",
    "- **Robust Answers**: Well-rounded responses to nuanced queries"
   ]
  },
  {
   "cell_type": "code",
   "execution_count": 25,
   "id": "f2fa77a2",
   "metadata": {
    "ExecuteTime": {
     "end_time": "2025-07-23T09:14:24.670770Z",
     "start_time": "2025-07-23T09:14:24.665436Z"
    }
   },
   "outputs": [],
   "source": [
    "from typing import List\n",
    "\n",
    "# Create a prompt for decomposing the query into multiple sub-questions\n",
    "decompose_query_template = \"\"\"Break down the following question into 3-5 clear and simple sub-questions that would help gather relevant information to answer the main question comprehensively knowing the main question is related to a Curse of Strahd D&D campaign and what happened during that campaign.\n",
    "Think step-by-step about what information would be needed to provide a complete answer.\n",
    "\n",
    "Main question: {question}\n",
    "\n",
    "Generate 3-5 sub-questions, each on a new line, prefixed with \"Q: \".\n",
    "Do not number the questions, just prefix with Q:.\n",
    "\n",
    "Sub-questions:\"\"\"\n",
    "\n",
    "decompose_query_prompt = PromptTemplate.from_template(decompose_query_template)\n",
    "\n",
    "# Chain to decompose a query into multiple sub-questions\n",
    "decompose_chain = decompose_query_prompt | llm | StrOutputParser()"
   ]
  },
  {
   "cell_type": "markdown",
   "id": "e52758a4",
   "metadata": {},
   "source": [
    "### 🔍 Multi-Query Retrieval Implementation\n",
    "\n",
    "This is the **heart of our Advanced RAG system**. Here's what this complex function does:\n",
    "\n",
    "### 🔄 Step-by-Step Process:\n",
    "\n",
    "1. **Query Decomposition**: \n",
    "   - Takes complex question and breaks it into 3-5 sub-questions\n",
    "   - Each sub-question focuses on a specific aspect\n",
    "\n",
    "2. **Enhanced Retrieval**: \n",
    "   - For each sub-question, first rewrites it (query enhancement)\n",
    "   - Then retrieves relevant documents\n",
    "   - Combines benefits of both enhancement techniques\n",
    "\n",
    "3. **Document Collection**: \n",
    "   - Gathers all documents from all sub-queries\n",
    "   - Results in a comprehensive document pool\n",
    "\n",
    "4. **Deduplication**: \n",
    "   - Removes duplicate documents (using first 100 characters as key)\n",
    "   - Prevents redundant information in final context\n",
    "\n",
    "5. **Optimization**: \n",
    "   - Limits to maximum documents (default 8) to stay within LLM context limits\n",
    "   - Returns most relevant, non-duplicate documents\n",
    "\n",
    "**Result**: A rich, diverse set of documents that covers multiple aspects of the original complex question!"
   ]
  },
  {
   "cell_type": "code",
   "execution_count": 26,
   "id": "1e985684",
   "metadata": {
    "ExecuteTime": {
     "end_time": "2025-07-23T09:14:30.676255Z",
     "start_time": "2025-07-23T09:14:30.663990Z"
    }
   },
   "outputs": [],
   "source": [
    "# Function to parse sub-questions from the decompose chain output\n",
    "def parse_sub_questions(decompose_output: str) -> List[str]:\n",
    "    \"\"\"Parse the output from the decompose chain into a list of sub-questions.\"\"\"\n",
    "    lines = decompose_output.strip().split('\\n')\n",
    "    questions = [line[3:].strip() for line in lines if line.startswith('Q:')]\n",
    "    return questions\n",
    "\n",
    "# Function to retrieve documents for a list of questions and combine results\n",
    "def multi_query_retriever(query: str, max_docs: int = 8) -> List:\n",
    "    \"\"\"\n",
    "    Break down a query into sub-questions, retrieve documents for each, and combine results.\n",
    "\n",
    "    Args:\n",
    "        query: The main user query\n",
    "        max_docs: Maximum number of documents to return (after deduplication)\n",
    "\n",
    "    Returns:\n",
    "        List of retrieved documents\n",
    "    \"\"\"\n",
    "    # Decompose the main query into sub-questions\n",
    "    decomposed_output = decompose_chain.invoke({\"question\": query})\n",
    "    sub_questions = parse_sub_questions(decomposed_output)\n",
    "\n",
    "    print(f\"Main query: {query}\")\n",
    "    print(f\"Decomposed into {len(sub_questions)} sub-questions:\")\n",
    "    for i, q in enumerate(sub_questions):\n",
    "        print(f\"{i+1}. {q}\")\n",
    "\n",
    "    # Retrieve documents for each sub-question\n",
    "    all_docs = []\n",
    "    for sub_q in sub_questions:\n",
    "        # Option 1: Use the original retriever\n",
    "        # docs = retriever.get_relevant_documents(sub_q)\n",
    "\n",
    "        # Option 2: Use the enhanced retriever with query rewriting\n",
    "        rewritten_sub_q = rewrite_chain.invoke({\"question\": sub_q})\n",
    "        docs = retriever.get_relevant_documents(rewritten_sub_q)\n",
    "\n",
    "        print(f\"Retrieved {len(docs)} docs for: '{sub_q}'\")\n",
    "        all_docs.extend(docs)\n",
    "\n",
    "    # Deduplicate documents based on document content\n",
    "    unique_docs = []\n",
    "    unique_contents = set()\n",
    "\n",
    "    for doc in all_docs:\n",
    "        # Use the first 100 chars as a simple deduplication key\n",
    "        # In a production system, you'd want a more robust deduplication strategy\n",
    "        content_key = doc.page_content[:100]\n",
    "        if content_key not in unique_contents:\n",
    "            unique_contents.add(content_key)\n",
    "            unique_docs.append(doc)\n",
    "\n",
    "    print(f\"Total documents before deduplication: {len(all_docs)}\")\n",
    "    print(f\"Total documents after deduplication: {len(unique_docs)}\")\n",
    "\n",
    "    # Limit to max_docs\n",
    "    final_docs = unique_docs[:max_docs] if len(unique_docs) > max_docs else unique_docs\n",
    "    print(f\"Returning {len(final_docs)} documents\")\n",
    "\n",
    "    return final_docs"
   ]
  },
  {
   "cell_type": "markdown",
   "id": "2f068441",
   "metadata": {},
   "source": [
    "### ⛓️ Advanced RAG Chain Assembly\n",
    "\n",
    "Creating our most sophisticated RAG system yet! This chain combines:\n",
    "\n",
    "**All Three Techniques:**\n",
    "1. **Query Decomposition**: Breaks complex questions into focused sub-questions\n",
    "2. **Query Rewriting**: Optimizes each sub-question for better retrieval\n",
    "3. **Multi-Document Retrieval**: Gathers comprehensive context from multiple searches\n",
    "\n",
    "**Complete Flow:**\n",
    "User Question → Decompose → Rewrite Sub-Questions → Multi-Retrieval → Deduplicate → Format → Generate Answer\n",
    "\n",
    "This represents the **state-of-the-art** in RAG systems!"
   ]
  },
  {
   "cell_type": "code",
   "execution_count": 27,
   "id": "4301a89a",
   "metadata": {
    "ExecuteTime": {
     "end_time": "2025-07-23T09:14:37.399067Z",
     "start_time": "2025-07-23T09:14:37.395719Z"
    }
   },
   "outputs": [],
   "source": [
    "# Create the advanced RAG chain with query decomposition\n",
    "advanced_rag_chain = (\n",
    "    {\n",
    "        \"context\": lambda query: format_docs(multi_query_retriever(query)),\n",
    "        \"question\": RunnablePassthrough()\n",
    "    }\n",
    "    | custom_rag_prompt\n",
    "    | llm\n",
    "    | StrOutputParser()\n",
    ")"
   ]
  },
  {
   "cell_type": "markdown",
   "id": "7fb034c4",
   "metadata": {},
   "source": [
    "## 🏆 The Ultimate RAG Showdown!\n",
    "\n",
    "Time for the **final comparison**! We'll test all three RAG implementations with the same complex question:\n",
    "\n",
    "### 🥊 The Contestants:\n",
    "\n",
    "1. **🥉 Basic RAG**: Simple query → retrieve → answer\n",
    "2. **🥈 Enhanced RAG**: Query rewriting → retrieve → answer  \n",
    "3. **🥇 Advanced RAG**: Query decomposition → multiple rewrites → multi-retrieve → deduplicate → answer\n",
    "\n",
    "### 📊 What to Compare:\n",
    "\n",
    "- **Answer Completeness**: Which provides the most comprehensive response?\n",
    "- **Information Quality**: Which finds the most relevant details?\n",
    "- **Processing Transparency**: Notice how Advanced RAG shows its thinking process\n",
    "- **Context Richness**: Which system gathers the best supporting evidence?\n",
    "\n",
    "**Hypothesis**: Advanced RAG should provide the most complete and nuanced answer because it:\n",
    "- Considers multiple aspects of the question\n",
    "- Retrieves more diverse documents\n",
    "- Combines information from various sources\n",
    "\n",
    "Let's see the results! 🎬"
   ]
  },
  {
   "cell_type": "code",
   "execution_count": 28,
   "id": "ec119eaa",
   "metadata": {
    "ExecuteTime": {
     "end_time": "2025-07-23T09:15:04.861601Z",
     "start_time": "2025-07-23T09:14:41.561942Z"
    }
   },
   "outputs": [
    {
     "name": "stdout",
     "output_type": "stream",
     "text": [
      "TESTING ADVANCED RAG CHAIN WITH QUERY DECOMPOSITION:\n",
      "Main query: What are key moments between Ziva and Milos?\n",
      "Decomposed into 5 sub-questions:\n",
      "1. What are the backgrounds and motivations of Ziva and Milos in the Curse of Strahd campaign?\n",
      "2. How did Ziva and Milos first meet and what was their initial relationship like?\n",
      "3. What significant events or challenges did Ziva and Milos face together during the campaign?\n",
      "4. Were there any turning points or conflicts between Ziva and Milos that affected their relationship?\n",
      "5. How did the interactions between Ziva and Milos influence the overall story or outcome of the campaign?\n"
     ]
    },
    {
     "name": "stderr",
     "output_type": "stream",
     "text": [
      "C:\\Projects\\evo-rag\\Evo-rag-workshop\\Lib\\site-packages\\urllib3\\connectionpool.py:1097: InsecureRequestWarning: Unverified HTTPS request is being made to host 'localhost'. Adding certificate verification is strongly advised. See: https://urllib3.readthedocs.io/en/latest/advanced-usage.html#tls-warnings\n",
      "  warnings.warn(\n"
     ]
    },
    {
     "name": "stdout",
     "output_type": "stream",
     "text": [
      "Retrieved 3 docs for: 'What are the backgrounds and motivations of Ziva and Milos in the Curse of Strahd campaign?'\n"
     ]
    },
    {
     "name": "stderr",
     "output_type": "stream",
     "text": [
      "C:\\Projects\\evo-rag\\Evo-rag-workshop\\Lib\\site-packages\\urllib3\\connectionpool.py:1097: InsecureRequestWarning: Unverified HTTPS request is being made to host 'localhost'. Adding certificate verification is strongly advised. See: https://urllib3.readthedocs.io/en/latest/advanced-usage.html#tls-warnings\n",
      "  warnings.warn(\n"
     ]
    },
    {
     "name": "stdout",
     "output_type": "stream",
     "text": [
      "Retrieved 3 docs for: 'How did Ziva and Milos first meet and what was their initial relationship like?'\n"
     ]
    },
    {
     "name": "stderr",
     "output_type": "stream",
     "text": [
      "C:\\Projects\\evo-rag\\Evo-rag-workshop\\Lib\\site-packages\\urllib3\\connectionpool.py:1097: InsecureRequestWarning: Unverified HTTPS request is being made to host 'localhost'. Adding certificate verification is strongly advised. See: https://urllib3.readthedocs.io/en/latest/advanced-usage.html#tls-warnings\n",
      "  warnings.warn(\n"
     ]
    },
    {
     "name": "stdout",
     "output_type": "stream",
     "text": [
      "Retrieved 3 docs for: 'What significant events or challenges did Ziva and Milos face together during the campaign?'\n"
     ]
    },
    {
     "name": "stderr",
     "output_type": "stream",
     "text": [
      "C:\\Projects\\evo-rag\\Evo-rag-workshop\\Lib\\site-packages\\urllib3\\connectionpool.py:1097: InsecureRequestWarning: Unverified HTTPS request is being made to host 'localhost'. Adding certificate verification is strongly advised. See: https://urllib3.readthedocs.io/en/latest/advanced-usage.html#tls-warnings\n",
      "  warnings.warn(\n"
     ]
    },
    {
     "name": "stdout",
     "output_type": "stream",
     "text": [
      "Retrieved 3 docs for: 'Were there any turning points or conflicts between Ziva and Milos that affected their relationship?'\n"
     ]
    },
    {
     "name": "stderr",
     "output_type": "stream",
     "text": [
      "C:\\Projects\\evo-rag\\Evo-rag-workshop\\Lib\\site-packages\\urllib3\\connectionpool.py:1097: InsecureRequestWarning: Unverified HTTPS request is being made to host 'localhost'. Adding certificate verification is strongly advised. See: https://urllib3.readthedocs.io/en/latest/advanced-usage.html#tls-warnings\n",
      "  warnings.warn(\n"
     ]
    },
    {
     "name": "stdout",
     "output_type": "stream",
     "text": [
      "Retrieved 3 docs for: 'How did the interactions between Ziva and Milos influence the overall story or outcome of the campaign?'\n",
      "Total documents before deduplication: 15\n",
      "Total documents after deduplication: 7\n",
      "Returning 7 documents\n",
      "\n",
      "Advanced RAG Chain Response:\n",
      "Key moments between Ziva and Milos include their complex dynamic where Ziva considers making a move on Milos despite his many red flags, while Milos no longer has romantic feelings for Ireena but still shares a connection with her. They share conversations about faith and the Morninglord, with Ziva encouraging Milos to find his own spiritual clarity despite Barovia’s darkness. Their relationship is tested when Milos angrily confronts Ziva over her decision to feed Doru, blaming her for empowering a threat that led to death, highlighting their conflicting views on mercy and consequence. Ziva admits liking Milos as a person but denies romantic feelings, while Milos sees the group mostly as tools, trusting only Ireena, and warns he would not hesitate to eliminate anyone who opposes him. Despite tensions, they share moments of bonding, such as discussing their pasts and spiritual struggles, showing a complicated but significant connection. Thanks for asking!\n",
      "\n",
      "--------------------------------------------------\n",
      "\n",
      "COMPARING WITH ENHANCED RAG CHAIN:\n"
     ]
    },
    {
     "name": "stderr",
     "output_type": "stream",
     "text": [
      "C:\\Projects\\evo-rag\\Evo-rag-workshop\\Lib\\site-packages\\urllib3\\connectionpool.py:1097: InsecureRequestWarning: Unverified HTTPS request is being made to host 'localhost'. Adding certificate verification is strongly advised. See: https://urllib3.readthedocs.io/en/latest/advanced-usage.html#tls-warnings\n",
      "  warnings.warn(\n"
     ]
    },
    {
     "name": "stdout",
     "output_type": "stream",
     "text": [
      "\n",
      "Enhanced RAG Chain Response (with query rewriting only):\n",
      "Key moments between Ziva and Milos include Ziva expressing interest in making a move on Milos despite acknowledging his complicated nature and red flags, showing her intrigue in him beyond just friendship. Ziva and Sergei bond over their shared frustrations with noble courts and their devotion to the Morninglord, indirectly connecting to Milos’s story. Arabelle wonders if Milos might leave Moonshade to stay with her, and Ziva admits this is possible, highlighting Milos’s complex relationships. When pressed about her feelings for Milos, Ziva admits she likes him as a person but denies any romantic feelings, indicating a nuanced connection. Overall, their interactions reveal tension, curiosity, and complicated emotions without clear romantic commitment. Thanks for asking!\n",
      "\n",
      "--------------------------------------------------\n",
      "\n",
      "COMPARING WITH ORIGINAL RAG CHAIN:\n"
     ]
    },
    {
     "name": "stderr",
     "output_type": "stream",
     "text": [
      "C:\\Projects\\evo-rag\\Evo-rag-workshop\\Lib\\site-packages\\urllib3\\connectionpool.py:1097: InsecureRequestWarning: Unverified HTTPS request is being made to host 'localhost'. Adding certificate verification is strongly advised. See: https://urllib3.readthedocs.io/en/latest/advanced-usage.html#tls-warnings\n",
      "  warnings.warn(\n"
     ]
    },
    {
     "name": "stdout",
     "output_type": "stream",
     "text": [
      "\n",
      "Original RAG Chain Response:\n",
      "Key moments between Ziva and Milos include their shared experience at the cave where Milos’s mother’s body was found, highlighting a place of emotional significance for both. Milos invites Ziva to train with him, and they spend an hour swimming in the frozen lake together, showing a moment of quiet companionship. Ziva reveals her complicated past involving a childhood crush and betrayal, which adds depth to her character and hints at why she might be drawn to Milos despite complications. She also expresses interest in making a move on Milos, intrigued by his complexity, though she acknowledges the situation is already complicated. Finally, Ziva admits to liking Milos as a person but denies romantic feelings, while also supporting Arabelle’s thoughts about Milos’s potential future choices. Thanks for asking!\n"
     ]
    }
   ],
   "source": [
    "# Test the advanced RAG chain with query decomposition\n",
    "complex_query = \"What are key moments between Ziva and Milos?\"\n",
    "\n",
    "print(\"TESTING ADVANCED RAG CHAIN WITH QUERY DECOMPOSITION:\")\n",
    "advanced_response = advanced_rag_chain.invoke(complex_query)\n",
    "print(\"\\nAdvanced RAG Chain Response:\")\n",
    "print(advanced_response)\n",
    "\n",
    "print(\"\\n\" + \"-\"*50)\n",
    "\n",
    "print(\"\\nCOMPARING WITH ENHANCED RAG CHAIN:\")\n",
    "enhanced_response = enhanced_rag_chain.invoke(complex_query)\n",
    "print(\"\\nEnhanced RAG Chain Response (with query rewriting only):\")\n",
    "print(enhanced_response)\n",
    "\n",
    "print(\"\\n\" + \"-\"*50)\n",
    "\n",
    "print(\"\\nCOMPARING WITH ORIGINAL RAG CHAIN:\")\n",
    "original_response = rag_chain.invoke(complex_query)\n",
    "print(\"\\nOriginal RAG Chain Response:\")\n",
    "print(original_response)"
   ]
  },
  {
   "cell_type": "code",
   "execution_count": null,
   "id": "70c7c1236d9c96e3",
   "metadata": {},
   "outputs": [],
   "source": []
  },
  {
   "cell_type": "markdown",
   "id": "bf1bd395",
   "metadata": {},
   "source": [
    "## 🎓 Workshop Conclusion: Your RAG Journey\n",
    "\n",
    "Congratulations! You've built and understood three levels of RAG systems. Let's recap what you've learned:\n",
    "\n",
    "### 🚀 Your RAG Evolution:\n",
    "\n",
    "#### 1. **Basic RAG** - The Foundation\n",
    "- ✅ **Core Concept**: Retrieve documents → Generate answers\n",
    "- ✅ **Vector Embeddings**: Convert text to searchable numbers\n",
    "- ✅ **Similarity Search**: Find relevant content automatically\n",
    "- ✅ **Prompt Engineering**: Craft effective instructions for LLMs\n",
    "\n",
    "#### 2. **Enhanced RAG** - Query Optimization\n",
    "- ✅ **Query Rewriting**: Transform user questions for better retrieval\n",
    "- ✅ **Domain Context**: Add specialized knowledge to queries\n",
    "- ✅ **Improved Matching**: Better queries = better document retrieval\n",
    "\n",
    "#### 3. **Advanced RAG** - Multi-Dimensional Retrieval\n",
    "- ✅ **Query Decomposition**: Break complex questions into focused parts\n",
    "- ✅ **Multi-Retrieval**: Search multiple aspects simultaneously\n",
    "- ✅ **Deduplication**: Optimize document selection\n",
    "- ✅ **Comprehensive Answers**: Rich, nuanced responses\n",
    "\n",
    "### 🎯 Key Takeaways for Real-World Applications:\n",
    "\n",
    "1. **Start Simple**: Basic RAG solves 80% of use cases effectively\n",
    "2. **Iterate & Improve**: Add complexity only when needed\n",
    "3. **Domain Knowledge Matters**: Custom prompts and context are crucial\n",
    "4. **Quality Over Quantity**: Better retrieval > more documents\n",
    "5. **User Experience**: Complex systems should feel simple to users\n",
    "\n",
    "### 🚀 Next Steps in Your RAG Journey:\n",
    "\n",
    "- **Experiment with Different Embedding Models**: Try domain-specific embeddings\n",
    "- **Explore Hybrid Search**: Combine semantic + keyword search\n",
    "- **Add Evaluation Metrics**: Measure and improve your RAG system\n",
    "- **Consider Production Concerns**: Scaling, latency, cost optimization\n",
    "- **Advanced Techniques**: Graph RAG, Agentic RAG, Multi-modal RAG\n",
    "\n",
    "### 📚 Production Considerations:\n",
    "\n",
    "- **Cost Management**: Embedding and LLM API calls add up\n",
    "- **Latency Optimization**: Users expect fast responses\n",
    "- **Data Privacy**: Ensure sensitive information is handled properly\n",
    "- **Evaluation & Monitoring**: Continuously measure and improve performance\n",
    "\n",
    "**Remember**: The best RAG system is the one that solves your users' problems effectively and efficiently. Start with the basics, understand your users' needs, then evolve your system accordingly.\n",
    "\n",
    "Thanks for joining this RAG workshop! 🎉"
   ]
  }
 ],
 "metadata": {
  "kernelspec": {
   "display_name": "Python 3",
   "language": "python",
   "name": "python3"
  },
  "language_info": {
   "codemirror_mode": {
    "name": "ipython",
    "version": 3
   },
   "file_extension": ".py",
   "mimetype": "text/x-python",
   "name": "python",
   "nbconvert_exporter": "python",
   "pygments_lexer": "ipython3",
   "version": "3.12.8"
  }
 },
 "nbformat": 4,
 "nbformat_minor": 5
}
